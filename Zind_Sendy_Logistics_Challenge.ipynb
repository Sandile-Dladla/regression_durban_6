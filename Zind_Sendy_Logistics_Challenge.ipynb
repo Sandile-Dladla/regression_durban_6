{
  "nbformat": 4,
  "nbformat_minor": 0,
  "metadata": {
    "kernelspec": {
      "display_name": "Python 3",
      "language": "python",
      "name": "python3"
    },
    "language_info": {
      "codemirror_mode": {
        "name": "ipython",
        "version": 3
      },
      "file_extension": ".py",
      "mimetype": "text/x-python",
      "name": "python",
      "nbconvert_exporter": "python",
      "pygments_lexer": "ipython3",
      "version": "3.7.4"
    },
    "colab": {
      "name": "Zind Sendy Logistics Challenge.ipynb",
      "provenance": [],
      "include_colab_link": true
    }
  },
  "cells": [
    {
      "cell_type": "markdown",
      "metadata": {
        "id": "view-in-github",
        "colab_type": "text"
      },
      "source": [
        "<a href=\"https://colab.research.google.com/github/Sandile-Dladla/regression_durban_6/blob/master/Zind_Sendy_Logistics_Challenge.ipynb\" target=\"_parent\"><img src=\"https://colab.research.google.com/assets/colab-badge.svg\" alt=\"Open In Colab\"/></a>"
      ]
    },
    {
      "cell_type": "markdown",
      "metadata": {
        "id": "mld7qG9GyO1A",
        "colab_type": "text"
      },
      "source": [
        "## Importing Libraries"
      ]
    },
    {
      "cell_type": "code",
      "metadata": {
        "id": "H_tzIuT_yO1B",
        "colab_type": "code",
        "colab": {}
      },
      "source": [
        "import numpy as np\n",
        "import pandas as pd\n",
        "import matplotlib.pyplot as plt\n",
        "from sklearn import linear_model\n",
        "import seaborn as sns\n",
        "\n",
        "%matplotlib inline"
      ],
      "execution_count": 0,
      "outputs": []
    },
    {
      "cell_type": "markdown",
      "metadata": {
        "id": "dqlo7UYhyO1I",
        "colab_type": "text"
      },
      "source": [
        "## Loading the Data"
      ]
    },
    {
      "cell_type": "code",
      "metadata": {
        "id": "Ziq-kze_yO1J",
        "colab_type": "code",
        "colab": {}
      },
      "source": [
        "train = pd.read_csv('data/Train.csv')\n",
        "test = pd.read_csv('data/Test.csv')\n",
        "riders = pd.read_csv('data/Riders.csv')\n",
        "variables = pd.read_csv('data/VariableDefinitions.csv')\n"
      ],
      "execution_count": 0,
      "outputs": []
    },
    {
      "cell_type": "code",
      "metadata": {
        "id": "1NQaLAfvyO1N",
        "colab_type": "code",
        "colab": {},
        "outputId": "88ffdb2b-01be-4731-b552-7fbf9f4d2d18"
      },
      "source": [
        "train.head()"
      ],
      "execution_count": 0,
      "outputs": [
        {
          "output_type": "execute_result",
          "data": {
            "text/html": [
              "<div>\n",
              "<style scoped>\n",
              "    .dataframe tbody tr th:only-of-type {\n",
              "        vertical-align: middle;\n",
              "    }\n",
              "\n",
              "    .dataframe tbody tr th {\n",
              "        vertical-align: top;\n",
              "    }\n",
              "\n",
              "    .dataframe thead th {\n",
              "        text-align: right;\n",
              "    }\n",
              "</style>\n",
              "<table border=\"1\" class=\"dataframe\">\n",
              "  <thead>\n",
              "    <tr style=\"text-align: right;\">\n",
              "      <th></th>\n",
              "      <th>Order No</th>\n",
              "      <th>User Id</th>\n",
              "      <th>Vehicle Type</th>\n",
              "      <th>Platform Type</th>\n",
              "      <th>Personal or Business</th>\n",
              "      <th>Placement - Day of Month</th>\n",
              "      <th>Placement - Weekday (Mo = 1)</th>\n",
              "      <th>Placement - Time</th>\n",
              "      <th>Confirmation - Day of Month</th>\n",
              "      <th>Confirmation - Weekday (Mo = 1)</th>\n",
              "      <th>...</th>\n",
              "      <th>Arrival at Destination - Time</th>\n",
              "      <th>Distance (KM)</th>\n",
              "      <th>Temperature</th>\n",
              "      <th>Precipitation in millimeters</th>\n",
              "      <th>Pickup Lat</th>\n",
              "      <th>Pickup Long</th>\n",
              "      <th>Destination Lat</th>\n",
              "      <th>Destination Long</th>\n",
              "      <th>Rider Id</th>\n",
              "      <th>Time from Pickup to Arrival</th>\n",
              "    </tr>\n",
              "  </thead>\n",
              "  <tbody>\n",
              "    <tr>\n",
              "      <td>0</td>\n",
              "      <td>Order_No_4211</td>\n",
              "      <td>User_Id_633</td>\n",
              "      <td>Bike</td>\n",
              "      <td>3</td>\n",
              "      <td>Business</td>\n",
              "      <td>9</td>\n",
              "      <td>5</td>\n",
              "      <td>9:35:46 AM</td>\n",
              "      <td>9</td>\n",
              "      <td>5</td>\n",
              "      <td>...</td>\n",
              "      <td>10:39:55 AM</td>\n",
              "      <td>4</td>\n",
              "      <td>20.4</td>\n",
              "      <td>NaN</td>\n",
              "      <td>-1.317755</td>\n",
              "      <td>36.830370</td>\n",
              "      <td>-1.300406</td>\n",
              "      <td>36.829741</td>\n",
              "      <td>Rider_Id_432</td>\n",
              "      <td>745</td>\n",
              "    </tr>\n",
              "    <tr>\n",
              "      <td>1</td>\n",
              "      <td>Order_No_25375</td>\n",
              "      <td>User_Id_2285</td>\n",
              "      <td>Bike</td>\n",
              "      <td>3</td>\n",
              "      <td>Personal</td>\n",
              "      <td>12</td>\n",
              "      <td>5</td>\n",
              "      <td>11:16:16 AM</td>\n",
              "      <td>12</td>\n",
              "      <td>5</td>\n",
              "      <td>...</td>\n",
              "      <td>12:17:22 PM</td>\n",
              "      <td>16</td>\n",
              "      <td>26.4</td>\n",
              "      <td>NaN</td>\n",
              "      <td>-1.351453</td>\n",
              "      <td>36.899315</td>\n",
              "      <td>-1.295004</td>\n",
              "      <td>36.814358</td>\n",
              "      <td>Rider_Id_856</td>\n",
              "      <td>1993</td>\n",
              "    </tr>\n",
              "    <tr>\n",
              "      <td>2</td>\n",
              "      <td>Order_No_1899</td>\n",
              "      <td>User_Id_265</td>\n",
              "      <td>Bike</td>\n",
              "      <td>3</td>\n",
              "      <td>Business</td>\n",
              "      <td>30</td>\n",
              "      <td>2</td>\n",
              "      <td>12:39:25 PM</td>\n",
              "      <td>30</td>\n",
              "      <td>2</td>\n",
              "      <td>...</td>\n",
              "      <td>1:00:38 PM</td>\n",
              "      <td>3</td>\n",
              "      <td>NaN</td>\n",
              "      <td>NaN</td>\n",
              "      <td>-1.308284</td>\n",
              "      <td>36.843419</td>\n",
              "      <td>-1.300921</td>\n",
              "      <td>36.828195</td>\n",
              "      <td>Rider_Id_155</td>\n",
              "      <td>455</td>\n",
              "    </tr>\n",
              "    <tr>\n",
              "      <td>3</td>\n",
              "      <td>Order_No_9336</td>\n",
              "      <td>User_Id_1402</td>\n",
              "      <td>Bike</td>\n",
              "      <td>3</td>\n",
              "      <td>Business</td>\n",
              "      <td>15</td>\n",
              "      <td>5</td>\n",
              "      <td>9:25:34 AM</td>\n",
              "      <td>15</td>\n",
              "      <td>5</td>\n",
              "      <td>...</td>\n",
              "      <td>10:05:27 AM</td>\n",
              "      <td>9</td>\n",
              "      <td>19.2</td>\n",
              "      <td>NaN</td>\n",
              "      <td>-1.281301</td>\n",
              "      <td>36.832396</td>\n",
              "      <td>-1.257147</td>\n",
              "      <td>36.795063</td>\n",
              "      <td>Rider_Id_855</td>\n",
              "      <td>1341</td>\n",
              "    </tr>\n",
              "    <tr>\n",
              "      <td>4</td>\n",
              "      <td>Order_No_27883</td>\n",
              "      <td>User_Id_1737</td>\n",
              "      <td>Bike</td>\n",
              "      <td>1</td>\n",
              "      <td>Personal</td>\n",
              "      <td>13</td>\n",
              "      <td>1</td>\n",
              "      <td>9:55:18 AM</td>\n",
              "      <td>13</td>\n",
              "      <td>1</td>\n",
              "      <td>...</td>\n",
              "      <td>10:25:37 AM</td>\n",
              "      <td>9</td>\n",
              "      <td>15.4</td>\n",
              "      <td>NaN</td>\n",
              "      <td>-1.266597</td>\n",
              "      <td>36.792118</td>\n",
              "      <td>-1.295041</td>\n",
              "      <td>36.809817</td>\n",
              "      <td>Rider_Id_770</td>\n",
              "      <td>1214</td>\n",
              "    </tr>\n",
              "  </tbody>\n",
              "</table>\n",
              "<p>5 rows × 29 columns</p>\n",
              "</div>"
            ],
            "text/plain": [
              "         Order No       User Id Vehicle Type  Platform Type  \\\n",
              "0   Order_No_4211   User_Id_633         Bike              3   \n",
              "1  Order_No_25375  User_Id_2285         Bike              3   \n",
              "2   Order_No_1899   User_Id_265         Bike              3   \n",
              "3   Order_No_9336  User_Id_1402         Bike              3   \n",
              "4  Order_No_27883  User_Id_1737         Bike              1   \n",
              "\n",
              "  Personal or Business  Placement - Day of Month  \\\n",
              "0             Business                         9   \n",
              "1             Personal                        12   \n",
              "2             Business                        30   \n",
              "3             Business                        15   \n",
              "4             Personal                        13   \n",
              "\n",
              "   Placement - Weekday (Mo = 1) Placement - Time  Confirmation - Day of Month  \\\n",
              "0                             5       9:35:46 AM                            9   \n",
              "1                             5      11:16:16 AM                           12   \n",
              "2                             2      12:39:25 PM                           30   \n",
              "3                             5       9:25:34 AM                           15   \n",
              "4                             1       9:55:18 AM                           13   \n",
              "\n",
              "   Confirmation - Weekday (Mo = 1)  ... Arrival at Destination - Time  \\\n",
              "0                                5  ...                   10:39:55 AM   \n",
              "1                                5  ...                   12:17:22 PM   \n",
              "2                                2  ...                    1:00:38 PM   \n",
              "3                                5  ...                   10:05:27 AM   \n",
              "4                                1  ...                   10:25:37 AM   \n",
              "\n",
              "   Distance (KM)  Temperature Precipitation in millimeters  Pickup Lat  \\\n",
              "0              4         20.4                          NaN   -1.317755   \n",
              "1             16         26.4                          NaN   -1.351453   \n",
              "2              3          NaN                          NaN   -1.308284   \n",
              "3              9         19.2                          NaN   -1.281301   \n",
              "4              9         15.4                          NaN   -1.266597   \n",
              "\n",
              "   Pickup Long Destination Lat  Destination Long      Rider Id  \\\n",
              "0    36.830370       -1.300406         36.829741  Rider_Id_432   \n",
              "1    36.899315       -1.295004         36.814358  Rider_Id_856   \n",
              "2    36.843419       -1.300921         36.828195  Rider_Id_155   \n",
              "3    36.832396       -1.257147         36.795063  Rider_Id_855   \n",
              "4    36.792118       -1.295041         36.809817  Rider_Id_770   \n",
              "\n",
              "  Time from Pickup to Arrival  \n",
              "0                         745  \n",
              "1                        1993  \n",
              "2                         455  \n",
              "3                        1341  \n",
              "4                        1214  \n",
              "\n",
              "[5 rows x 29 columns]"
            ]
          },
          "metadata": {
            "tags": []
          },
          "execution_count": 3
        }
      ]
    },
    {
      "cell_type": "code",
      "metadata": {
        "id": "CjpU3yjVyO1S",
        "colab_type": "code",
        "colab": {},
        "outputId": "e4152695-210f-43ba-a977-e2cba158461c"
      },
      "source": [
        "test.head()"
      ],
      "execution_count": 0,
      "outputs": [
        {
          "output_type": "execute_result",
          "data": {
            "text/html": [
              "<div>\n",
              "<style scoped>\n",
              "    .dataframe tbody tr th:only-of-type {\n",
              "        vertical-align: middle;\n",
              "    }\n",
              "\n",
              "    .dataframe tbody tr th {\n",
              "        vertical-align: top;\n",
              "    }\n",
              "\n",
              "    .dataframe thead th {\n",
              "        text-align: right;\n",
              "    }\n",
              "</style>\n",
              "<table border=\"1\" class=\"dataframe\">\n",
              "  <thead>\n",
              "    <tr style=\"text-align: right;\">\n",
              "      <th></th>\n",
              "      <th>Order No</th>\n",
              "      <th>User Id</th>\n",
              "      <th>Vehicle Type</th>\n",
              "      <th>Platform Type</th>\n",
              "      <th>Personal or Business</th>\n",
              "      <th>Placement - Day of Month</th>\n",
              "      <th>Placement - Weekday (Mo = 1)</th>\n",
              "      <th>Placement - Time</th>\n",
              "      <th>Confirmation - Day of Month</th>\n",
              "      <th>Confirmation - Weekday (Mo = 1)</th>\n",
              "      <th>...</th>\n",
              "      <th>Pickup - Weekday (Mo = 1)</th>\n",
              "      <th>Pickup - Time</th>\n",
              "      <th>Distance (KM)</th>\n",
              "      <th>Temperature</th>\n",
              "      <th>Precipitation in millimeters</th>\n",
              "      <th>Pickup Lat</th>\n",
              "      <th>Pickup Long</th>\n",
              "      <th>Destination Lat</th>\n",
              "      <th>Destination Long</th>\n",
              "      <th>Rider Id</th>\n",
              "    </tr>\n",
              "  </thead>\n",
              "  <tbody>\n",
              "    <tr>\n",
              "      <td>0</td>\n",
              "      <td>Order_No_19248</td>\n",
              "      <td>User_Id_3355</td>\n",
              "      <td>Bike</td>\n",
              "      <td>3</td>\n",
              "      <td>Business</td>\n",
              "      <td>27</td>\n",
              "      <td>3</td>\n",
              "      <td>4:44:10 PM</td>\n",
              "      <td>27</td>\n",
              "      <td>3</td>\n",
              "      <td>...</td>\n",
              "      <td>3</td>\n",
              "      <td>5:06:47 PM</td>\n",
              "      <td>8</td>\n",
              "      <td>NaN</td>\n",
              "      <td>NaN</td>\n",
              "      <td>-1.333275</td>\n",
              "      <td>36.870815</td>\n",
              "      <td>-1.305249</td>\n",
              "      <td>36.822390</td>\n",
              "      <td>Rider_Id_192</td>\n",
              "    </tr>\n",
              "    <tr>\n",
              "      <td>1</td>\n",
              "      <td>Order_No_12736</td>\n",
              "      <td>User_Id_3647</td>\n",
              "      <td>Bike</td>\n",
              "      <td>3</td>\n",
              "      <td>Business</td>\n",
              "      <td>17</td>\n",
              "      <td>5</td>\n",
              "      <td>12:57:35 PM</td>\n",
              "      <td>17</td>\n",
              "      <td>5</td>\n",
              "      <td>...</td>\n",
              "      <td>5</td>\n",
              "      <td>1:25:37 PM</td>\n",
              "      <td>5</td>\n",
              "      <td>NaN</td>\n",
              "      <td>NaN</td>\n",
              "      <td>-1.272639</td>\n",
              "      <td>36.794723</td>\n",
              "      <td>-1.277007</td>\n",
              "      <td>36.823907</td>\n",
              "      <td>Rider_Id_868</td>\n",
              "    </tr>\n",
              "    <tr>\n",
              "      <td>2</td>\n",
              "      <td>Order_No_768</td>\n",
              "      <td>User_Id_2154</td>\n",
              "      <td>Bike</td>\n",
              "      <td>3</td>\n",
              "      <td>Business</td>\n",
              "      <td>27</td>\n",
              "      <td>4</td>\n",
              "      <td>11:08:14 AM</td>\n",
              "      <td>27</td>\n",
              "      <td>4</td>\n",
              "      <td>...</td>\n",
              "      <td>4</td>\n",
              "      <td>11:57:54 AM</td>\n",
              "      <td>5</td>\n",
              "      <td>22.8</td>\n",
              "      <td>NaN</td>\n",
              "      <td>-1.290894</td>\n",
              "      <td>36.822971</td>\n",
              "      <td>-1.276574</td>\n",
              "      <td>36.851365</td>\n",
              "      <td>Rider_Id_26</td>\n",
              "    </tr>\n",
              "    <tr>\n",
              "      <td>3</td>\n",
              "      <td>Order_No_15332</td>\n",
              "      <td>User_Id_2910</td>\n",
              "      <td>Bike</td>\n",
              "      <td>3</td>\n",
              "      <td>Business</td>\n",
              "      <td>17</td>\n",
              "      <td>1</td>\n",
              "      <td>1:51:35 PM</td>\n",
              "      <td>17</td>\n",
              "      <td>1</td>\n",
              "      <td>...</td>\n",
              "      <td>1</td>\n",
              "      <td>2:16:52 PM</td>\n",
              "      <td>5</td>\n",
              "      <td>24.5</td>\n",
              "      <td>NaN</td>\n",
              "      <td>-1.290503</td>\n",
              "      <td>36.809646</td>\n",
              "      <td>-1.303382</td>\n",
              "      <td>36.790658</td>\n",
              "      <td>Rider_Id_685</td>\n",
              "    </tr>\n",
              "    <tr>\n",
              "      <td>4</td>\n",
              "      <td>Order_No_21373</td>\n",
              "      <td>User_Id_1205</td>\n",
              "      <td>Bike</td>\n",
              "      <td>3</td>\n",
              "      <td>Business</td>\n",
              "      <td>11</td>\n",
              "      <td>2</td>\n",
              "      <td>11:30:28 AM</td>\n",
              "      <td>11</td>\n",
              "      <td>2</td>\n",
              "      <td>...</td>\n",
              "      <td>2</td>\n",
              "      <td>11:56:04 AM</td>\n",
              "      <td>6</td>\n",
              "      <td>24.4</td>\n",
              "      <td>NaN</td>\n",
              "      <td>-1.281081</td>\n",
              "      <td>36.814423</td>\n",
              "      <td>-1.266467</td>\n",
              "      <td>36.792161</td>\n",
              "      <td>Rider_Id_858</td>\n",
              "    </tr>\n",
              "  </tbody>\n",
              "</table>\n",
              "<p>5 rows × 25 columns</p>\n",
              "</div>"
            ],
            "text/plain": [
              "         Order No       User Id Vehicle Type  Platform Type  \\\n",
              "0  Order_No_19248  User_Id_3355         Bike              3   \n",
              "1  Order_No_12736  User_Id_3647         Bike              3   \n",
              "2    Order_No_768  User_Id_2154         Bike              3   \n",
              "3  Order_No_15332  User_Id_2910         Bike              3   \n",
              "4  Order_No_21373  User_Id_1205         Bike              3   \n",
              "\n",
              "  Personal or Business  Placement - Day of Month  \\\n",
              "0             Business                        27   \n",
              "1             Business                        17   \n",
              "2             Business                        27   \n",
              "3             Business                        17   \n",
              "4             Business                        11   \n",
              "\n",
              "   Placement - Weekday (Mo = 1) Placement - Time  Confirmation - Day of Month  \\\n",
              "0                             3       4:44:10 PM                           27   \n",
              "1                             5      12:57:35 PM                           17   \n",
              "2                             4      11:08:14 AM                           27   \n",
              "3                             1       1:51:35 PM                           17   \n",
              "4                             2      11:30:28 AM                           11   \n",
              "\n",
              "   Confirmation - Weekday (Mo = 1)  ... Pickup - Weekday (Mo = 1)  \\\n",
              "0                                3  ...                         3   \n",
              "1                                5  ...                         5   \n",
              "2                                4  ...                         4   \n",
              "3                                1  ...                         1   \n",
              "4                                2  ...                         2   \n",
              "\n",
              "   Pickup - Time  Distance (KM) Temperature  Precipitation in millimeters  \\\n",
              "0     5:06:47 PM              8         NaN                           NaN   \n",
              "1     1:25:37 PM              5         NaN                           NaN   \n",
              "2    11:57:54 AM              5        22.8                           NaN   \n",
              "3     2:16:52 PM              5        24.5                           NaN   \n",
              "4    11:56:04 AM              6        24.4                           NaN   \n",
              "\n",
              "   Pickup Lat Pickup Long  Destination Lat  Destination Long      Rider Id  \n",
              "0   -1.333275   36.870815        -1.305249         36.822390  Rider_Id_192  \n",
              "1   -1.272639   36.794723        -1.277007         36.823907  Rider_Id_868  \n",
              "2   -1.290894   36.822971        -1.276574         36.851365   Rider_Id_26  \n",
              "3   -1.290503   36.809646        -1.303382         36.790658  Rider_Id_685  \n",
              "4   -1.281081   36.814423        -1.266467         36.792161  Rider_Id_858  \n",
              "\n",
              "[5 rows x 25 columns]"
            ]
          },
          "metadata": {
            "tags": []
          },
          "execution_count": 4
        }
      ]
    },
    {
      "cell_type": "code",
      "metadata": {
        "id": "2V2Gy3FoyO1W",
        "colab_type": "code",
        "colab": {},
        "outputId": "689699e3-1c32-410e-b8a6-a02d8edbfa0f"
      },
      "source": [
        "# Defines every variable\n",
        "variables"
      ],
      "execution_count": 0,
      "outputs": [
        {
          "output_type": "execute_result",
          "data": {
            "text/html": [
              "<div>\n",
              "<style scoped>\n",
              "    .dataframe tbody tr th:only-of-type {\n",
              "        vertical-align: middle;\n",
              "    }\n",
              "\n",
              "    .dataframe tbody tr th {\n",
              "        vertical-align: top;\n",
              "    }\n",
              "\n",
              "    .dataframe thead th {\n",
              "        text-align: right;\n",
              "    }\n",
              "</style>\n",
              "<table border=\"1\" class=\"dataframe\">\n",
              "  <thead>\n",
              "    <tr style=\"text-align: right;\">\n",
              "      <th></th>\n",
              "      <th>Order No</th>\n",
              "      <th>Unique number identifying the order</th>\n",
              "    </tr>\n",
              "  </thead>\n",
              "  <tbody>\n",
              "    <tr>\n",
              "      <td>0</td>\n",
              "      <td>User Id</td>\n",
              "      <td>Unique number identifying the customer on a pl...</td>\n",
              "    </tr>\n",
              "    <tr>\n",
              "      <td>1</td>\n",
              "      <td>Vehicle Type</td>\n",
              "      <td>For this competition limited to bikes, however...</td>\n",
              "    </tr>\n",
              "    <tr>\n",
              "      <td>2</td>\n",
              "      <td>Platform Type</td>\n",
              "      <td>Platform used to place the order, there are 4 ...</td>\n",
              "    </tr>\n",
              "    <tr>\n",
              "      <td>3</td>\n",
              "      <td>Personal or Business</td>\n",
              "      <td>Customer type</td>\n",
              "    </tr>\n",
              "    <tr>\n",
              "      <td>4</td>\n",
              "      <td>Placement - Day of Month</td>\n",
              "      <td>Placement - Day of Month i.e 1-31</td>\n",
              "    </tr>\n",
              "    <tr>\n",
              "      <td>5</td>\n",
              "      <td>Placement - Weekday (Mo = 1)</td>\n",
              "      <td>Placement - Weekday (Monday = 1)</td>\n",
              "    </tr>\n",
              "    <tr>\n",
              "      <td>6</td>\n",
              "      <td>Placement - Time</td>\n",
              "      <td>Placement - Time - Time of day the order was p...</td>\n",
              "    </tr>\n",
              "    <tr>\n",
              "      <td>7</td>\n",
              "      <td>Confirmation - Day of Month</td>\n",
              "      <td>Confirmation - Day of Month i.e 1-31</td>\n",
              "    </tr>\n",
              "    <tr>\n",
              "      <td>8</td>\n",
              "      <td>Confirmation - Weekday (Mo = 1)</td>\n",
              "      <td>Confirmation - Weekday (Monday = 1)</td>\n",
              "    </tr>\n",
              "    <tr>\n",
              "      <td>9</td>\n",
              "      <td>Confirmation - Time</td>\n",
              "      <td>Confirmation - Time - Time of day the order wa...</td>\n",
              "    </tr>\n",
              "    <tr>\n",
              "      <td>10</td>\n",
              "      <td>Arrival at Pickup - Day of Month</td>\n",
              "      <td>Arrival at Pickup - Day of Month i.e 1-31</td>\n",
              "    </tr>\n",
              "    <tr>\n",
              "      <td>11</td>\n",
              "      <td>Arrival at Pickup - Weekday (Mo = 1)</td>\n",
              "      <td>Arrival at Pickup - Weekday (Monday = 1)</td>\n",
              "    </tr>\n",
              "    <tr>\n",
              "      <td>12</td>\n",
              "      <td>Arrival at Pickup - Time</td>\n",
              "      <td>Time of day the the rider arrived at the locat...</td>\n",
              "    </tr>\n",
              "    <tr>\n",
              "      <td>13</td>\n",
              "      <td>Pickup - Day of Month</td>\n",
              "      <td>Pickup - Day of Month i.e 1-31</td>\n",
              "    </tr>\n",
              "    <tr>\n",
              "      <td>14</td>\n",
              "      <td>Pickup - Weekday (Mo = 1)</td>\n",
              "      <td>Pickup - Weekday (Monday = 1)</td>\n",
              "    </tr>\n",
              "    <tr>\n",
              "      <td>15</td>\n",
              "      <td>Pickup - Time</td>\n",
              "      <td>Pickup - Time - Time of day the the rider pick...</td>\n",
              "    </tr>\n",
              "    <tr>\n",
              "      <td>16</td>\n",
              "      <td>Arrival at Destination - Day of Month</td>\n",
              "      <td>Arrival at Delivery - Day of Month i.e 1-31</td>\n",
              "    </tr>\n",
              "    <tr>\n",
              "      <td>17</td>\n",
              "      <td>Arrival at Destination - Weekday (Mo = 1)</td>\n",
              "      <td>Arrival at Delivery - Weekday (Monday = 1)</td>\n",
              "    </tr>\n",
              "    <tr>\n",
              "      <td>18</td>\n",
              "      <td>Arrival at Destination - Time</td>\n",
              "      <td>Arrival at Delivery Time - Time of day the rid...</td>\n",
              "    </tr>\n",
              "    <tr>\n",
              "      <td>19</td>\n",
              "      <td>Distance (KM)</td>\n",
              "      <td>The distance from Pickup to Destination</td>\n",
              "    </tr>\n",
              "    <tr>\n",
              "      <td>20</td>\n",
              "      <td>Temperature</td>\n",
              "      <td>Temperature at the time of order placement in ...</td>\n",
              "    </tr>\n",
              "    <tr>\n",
              "      <td>21</td>\n",
              "      <td>Precipitation in millimeters</td>\n",
              "      <td>Precipitation at the time of order placement ...</td>\n",
              "    </tr>\n",
              "    <tr>\n",
              "      <td>22</td>\n",
              "      <td>Pickup Lat</td>\n",
              "      <td>Latitude of pick up location</td>\n",
              "    </tr>\n",
              "    <tr>\n",
              "      <td>23</td>\n",
              "      <td>Pickup Long</td>\n",
              "      <td>Longitude of pick up location</td>\n",
              "    </tr>\n",
              "    <tr>\n",
              "      <td>24</td>\n",
              "      <td>Destination Lat</td>\n",
              "      <td>Latitude of delivery location</td>\n",
              "    </tr>\n",
              "    <tr>\n",
              "      <td>25</td>\n",
              "      <td>Destination Long</td>\n",
              "      <td>Longitude of delivery location</td>\n",
              "    </tr>\n",
              "    <tr>\n",
              "      <td>26</td>\n",
              "      <td>Rider Id</td>\n",
              "      <td>ID of the Rider who accepted the order</td>\n",
              "    </tr>\n",
              "    <tr>\n",
              "      <td>27</td>\n",
              "      <td>Time from Pickup to Arrival</td>\n",
              "      <td>Time in seconds between 'Pickup' and 'Arrival ...</td>\n",
              "    </tr>\n",
              "    <tr>\n",
              "      <td>28</td>\n",
              "      <td>NaN</td>\n",
              "      <td>NaN</td>\n",
              "    </tr>\n",
              "    <tr>\n",
              "      <td>29</td>\n",
              "      <td>Rider Metrics</td>\n",
              "      <td>NaN</td>\n",
              "    </tr>\n",
              "    <tr>\n",
              "      <td>30</td>\n",
              "      <td>Rider Id</td>\n",
              "      <td>Unique number identifying the rider (same as i...</td>\n",
              "    </tr>\n",
              "    <tr>\n",
              "      <td>31</td>\n",
              "      <td>No_Of_Orders</td>\n",
              "      <td>Number of Orders the rider has delivered</td>\n",
              "    </tr>\n",
              "    <tr>\n",
              "      <td>32</td>\n",
              "      <td>Age</td>\n",
              "      <td>Number of days since the rider delivered the f...</td>\n",
              "    </tr>\n",
              "    <tr>\n",
              "      <td>33</td>\n",
              "      <td>Average_Rating</td>\n",
              "      <td>Average rating of the rider</td>\n",
              "    </tr>\n",
              "    <tr>\n",
              "      <td>34</td>\n",
              "      <td>No_of_Ratings</td>\n",
              "      <td>Number of ratings the rider has received. Rat...</td>\n",
              "    </tr>\n",
              "  </tbody>\n",
              "</table>\n",
              "</div>"
            ],
            "text/plain": [
              "                                     Order No  \\\n",
              "0                                     User Id   \n",
              "1                                Vehicle Type   \n",
              "2                               Platform Type   \n",
              "3                        Personal or Business   \n",
              "4                    Placement - Day of Month   \n",
              "5                Placement - Weekday (Mo = 1)   \n",
              "6                            Placement - Time   \n",
              "7                 Confirmation - Day of Month   \n",
              "8             Confirmation - Weekday (Mo = 1)   \n",
              "9                         Confirmation - Time   \n",
              "10           Arrival at Pickup - Day of Month   \n",
              "11       Arrival at Pickup - Weekday (Mo = 1)   \n",
              "12                   Arrival at Pickup - Time   \n",
              "13                      Pickup - Day of Month   \n",
              "14                  Pickup - Weekday (Mo = 1)   \n",
              "15                              Pickup - Time   \n",
              "16      Arrival at Destination - Day of Month   \n",
              "17  Arrival at Destination - Weekday (Mo = 1)   \n",
              "18              Arrival at Destination - Time   \n",
              "19                              Distance (KM)   \n",
              "20                                Temperature   \n",
              "21               Precipitation in millimeters   \n",
              "22                                 Pickup Lat   \n",
              "23                                Pickup Long   \n",
              "24                            Destination Lat   \n",
              "25                           Destination Long   \n",
              "26                                   Rider Id   \n",
              "27                Time from Pickup to Arrival   \n",
              "28                                        NaN   \n",
              "29                              Rider Metrics   \n",
              "30                                   Rider Id   \n",
              "31                               No_Of_Orders   \n",
              "32                                        Age   \n",
              "33                             Average_Rating   \n",
              "34                              No_of_Ratings   \n",
              "\n",
              "                  Unique number identifying the order  \n",
              "0   Unique number identifying the customer on a pl...  \n",
              "1   For this competition limited to bikes, however...  \n",
              "2   Platform used to place the order, there are 4 ...  \n",
              "3                                       Customer type  \n",
              "4                   Placement - Day of Month i.e 1-31  \n",
              "5                    Placement - Weekday (Monday = 1)  \n",
              "6   Placement - Time - Time of day the order was p...  \n",
              "7                Confirmation - Day of Month i.e 1-31  \n",
              "8                 Confirmation - Weekday (Monday = 1)  \n",
              "9   Confirmation - Time - Time of day the order wa...  \n",
              "10          Arrival at Pickup - Day of Month i.e 1-31  \n",
              "11           Arrival at Pickup - Weekday (Monday = 1)  \n",
              "12  Time of day the the rider arrived at the locat...  \n",
              "13                     Pickup - Day of Month i.e 1-31  \n",
              "14                      Pickup - Weekday (Monday = 1)  \n",
              "15  Pickup - Time - Time of day the the rider pick...  \n",
              "16        Arrival at Delivery - Day of Month i.e 1-31  \n",
              "17         Arrival at Delivery - Weekday (Monday = 1)  \n",
              "18  Arrival at Delivery Time - Time of day the rid...  \n",
              "19            The distance from Pickup to Destination  \n",
              "20  Temperature at the time of order placement in ...  \n",
              "21   Precipitation at the time of order placement ...  \n",
              "22                       Latitude of pick up location  \n",
              "23                      Longitude of pick up location  \n",
              "24                      Latitude of delivery location  \n",
              "25                     Longitude of delivery location  \n",
              "26             ID of the Rider who accepted the order  \n",
              "27  Time in seconds between 'Pickup' and 'Arrival ...  \n",
              "28                                                NaN  \n",
              "29                                                NaN  \n",
              "30  Unique number identifying the rider (same as i...  \n",
              "31           Number of Orders the rider has delivered  \n",
              "32  Number of days since the rider delivered the f...  \n",
              "33                        Average rating of the rider  \n",
              "34   Number of ratings the rider has received. Rat...  "
            ]
          },
          "metadata": {
            "tags": []
          },
          "execution_count": 5
        }
      ]
    },
    {
      "cell_type": "code",
      "metadata": {
        "id": "QgxRU4-_yO1a",
        "colab_type": "code",
        "colab": {}
      },
      "source": [
        "train_rd = train.merge(riders, how='left', on='Rider Id')\n",
        "test_rd = test.merge(riders, how='left', on='Rider Id')"
      ],
      "execution_count": 0,
      "outputs": []
    },
    {
      "cell_type": "markdown",
      "metadata": {
        "id": "w49Y6uMfyO1d",
        "colab_type": "text"
      },
      "source": [
        "# EDA"
      ]
    },
    {
      "cell_type": "code",
      "metadata": {
        "id": "ULOE6LQByO1e",
        "colab_type": "code",
        "colab": {},
        "outputId": "7e32d37f-da22-4ec0-e369-6fc776a4f6dd"
      },
      "source": [
        "\n",
        "# Shape of data\n",
        "print(train_rd.shape)\n",
        "print(test_rd.shape)"
      ],
      "execution_count": 0,
      "outputs": [
        {
          "output_type": "stream",
          "text": [
            "(21201, 33)\n",
            "(7068, 29)\n"
          ],
          "name": "stdout"
        }
      ]
    },
    {
      "cell_type": "markdown",
      "metadata": {
        "id": "OaNsh3iPyO1l",
        "colab_type": "text"
      },
      "source": [
        " The combined dataset of train and rider has 21201 record and 33 columns\n",
        " \n",
        " \n",
        " The combined dataset of test and rider has 7068 record and 29 columns\n",
        "\n",
        "\n"
      ]
    },
    {
      "cell_type": "code",
      "metadata": {
        "id": "5Xp3_M7YyO1m",
        "colab_type": "code",
        "colab": {},
        "outputId": "fb008737-e787-4e4a-b9dc-07046a96b08b"
      },
      "source": [
        "print(train_rd.info(),'\\n')\n",
        "print(test_rd.info())"
      ],
      "execution_count": 0,
      "outputs": [
        {
          "output_type": "stream",
          "text": [
            "<class 'pandas.core.frame.DataFrame'>\n",
            "Int64Index: 21201 entries, 0 to 21200\n",
            "Data columns (total 33 columns):\n",
            "Order No                                     21201 non-null object\n",
            "User Id                                      21201 non-null object\n",
            "Vehicle Type                                 21201 non-null object\n",
            "Platform Type                                21201 non-null int64\n",
            "Personal or Business                         21201 non-null object\n",
            "Placement - Day of Month                     21201 non-null int64\n",
            "Placement - Weekday (Mo = 1)                 21201 non-null int64\n",
            "Placement - Time                             21201 non-null object\n",
            "Confirmation - Day of Month                  21201 non-null int64\n",
            "Confirmation - Weekday (Mo = 1)              21201 non-null int64\n",
            "Confirmation - Time                          21201 non-null object\n",
            "Arrival at Pickup - Day of Month             21201 non-null int64\n",
            "Arrival at Pickup - Weekday (Mo = 1)         21201 non-null int64\n",
            "Arrival at Pickup - Time                     21201 non-null object\n",
            "Pickup - Day of Month                        21201 non-null int64\n",
            "Pickup - Weekday (Mo = 1)                    21201 non-null int64\n",
            "Pickup - Time                                21201 non-null object\n",
            "Arrival at Destination - Day of Month        21201 non-null int64\n",
            "Arrival at Destination - Weekday (Mo = 1)    21201 non-null int64\n",
            "Arrival at Destination - Time                21201 non-null object\n",
            "Distance (KM)                                21201 non-null int64\n",
            "Temperature                                  16835 non-null float64\n",
            "Precipitation in millimeters                 552 non-null float64\n",
            "Pickup Lat                                   21201 non-null float64\n",
            "Pickup Long                                  21201 non-null float64\n",
            "Destination Lat                              21201 non-null float64\n",
            "Destination Long                             21201 non-null float64\n",
            "Rider Id                                     21201 non-null object\n",
            "Time from Pickup to Arrival                  21201 non-null int64\n",
            "No_Of_Orders                                 21201 non-null int64\n",
            "Age                                          21201 non-null int64\n",
            "Average_Rating                               21201 non-null float64\n",
            "No_of_Ratings                                21201 non-null int64\n",
            "dtypes: float64(7), int64(16), object(10)\n",
            "memory usage: 5.5+ MB\n",
            "None \n",
            "\n",
            "<class 'pandas.core.frame.DataFrame'>\n",
            "Int64Index: 7068 entries, 0 to 7067\n",
            "Data columns (total 29 columns):\n",
            "Order No                                7068 non-null object\n",
            "User Id                                 7068 non-null object\n",
            "Vehicle Type                            7068 non-null object\n",
            "Platform Type                           7068 non-null int64\n",
            "Personal or Business                    7068 non-null object\n",
            "Placement - Day of Month                7068 non-null int64\n",
            "Placement - Weekday (Mo = 1)            7068 non-null int64\n",
            "Placement - Time                        7068 non-null object\n",
            "Confirmation - Day of Month             7068 non-null int64\n",
            "Confirmation - Weekday (Mo = 1)         7068 non-null int64\n",
            "Confirmation - Time                     7068 non-null object\n",
            "Arrival at Pickup - Day of Month        7068 non-null int64\n",
            "Arrival at Pickup - Weekday (Mo = 1)    7068 non-null int64\n",
            "Arrival at Pickup - Time                7068 non-null object\n",
            "Pickup - Day of Month                   7068 non-null int64\n",
            "Pickup - Weekday (Mo = 1)               7068 non-null int64\n",
            "Pickup - Time                           7068 non-null object\n",
            "Distance (KM)                           7068 non-null int64\n",
            "Temperature                             5631 non-null float64\n",
            "Precipitation in millimeters            199 non-null float64\n",
            "Pickup Lat                              7068 non-null float64\n",
            "Pickup Long                             7068 non-null float64\n",
            "Destination Lat                         7068 non-null float64\n",
            "Destination Long                        7068 non-null float64\n",
            "Rider Id                                7068 non-null object\n",
            "No_Of_Orders                            7068 non-null int64\n",
            "Age                                     7068 non-null int64\n",
            "Average_Rating                          7068 non-null float64\n",
            "No_of_Ratings                           7068 non-null int64\n",
            "dtypes: float64(7), int64(13), object(9)\n",
            "memory usage: 1.6+ MB\n",
            "None\n"
          ],
          "name": "stdout"
        }
      ]
    },
    {
      "cell_type": "markdown",
      "metadata": {
        "id": "kTTewtj_yO1q",
        "colab_type": "text"
      },
      "source": [
        "Temperature and Precipitation in millimeters columns have missing values"
      ]
    },
    {
      "cell_type": "markdown",
      "metadata": {
        "id": "k9mxp_9kyO1r",
        "colab_type": "text"
      },
      "source": [
        "## Summary Statistics"
      ]
    },
    {
      "cell_type": "code",
      "metadata": {
        "id": "Sdj9hqMFyO1r",
        "colab_type": "code",
        "colab": {},
        "outputId": "63197454-949d-4347-f8da-d04a2d3de665"
      },
      "source": [
        "train_rd.describe().T"
      ],
      "execution_count": 0,
      "outputs": [
        {
          "output_type": "execute_result",
          "data": {
            "text/html": [
              "<div>\n",
              "<style scoped>\n",
              "    .dataframe tbody tr th:only-of-type {\n",
              "        vertical-align: middle;\n",
              "    }\n",
              "\n",
              "    .dataframe tbody tr th {\n",
              "        vertical-align: top;\n",
              "    }\n",
              "\n",
              "    .dataframe thead th {\n",
              "        text-align: right;\n",
              "    }\n",
              "</style>\n",
              "<table border=\"1\" class=\"dataframe\">\n",
              "  <thead>\n",
              "    <tr style=\"text-align: right;\">\n",
              "      <th></th>\n",
              "      <th>count</th>\n",
              "      <th>mean</th>\n",
              "      <th>std</th>\n",
              "      <th>min</th>\n",
              "      <th>25%</th>\n",
              "      <th>50%</th>\n",
              "      <th>75%</th>\n",
              "      <th>max</th>\n",
              "    </tr>\n",
              "  </thead>\n",
              "  <tbody>\n",
              "    <tr>\n",
              "      <td>Platform Type</td>\n",
              "      <td>21201.0</td>\n",
              "      <td>2.752182</td>\n",
              "      <td>0.625178</td>\n",
              "      <td>1.000000</td>\n",
              "      <td>3.000000</td>\n",
              "      <td>3.000000</td>\n",
              "      <td>3.000000</td>\n",
              "      <td>4.000000</td>\n",
              "    </tr>\n",
              "    <tr>\n",
              "      <td>Placement - Day of Month</td>\n",
              "      <td>21201.0</td>\n",
              "      <td>15.653696</td>\n",
              "      <td>8.798916</td>\n",
              "      <td>1.000000</td>\n",
              "      <td>8.000000</td>\n",
              "      <td>15.000000</td>\n",
              "      <td>23.000000</td>\n",
              "      <td>31.000000</td>\n",
              "    </tr>\n",
              "    <tr>\n",
              "      <td>Placement - Weekday (Mo = 1)</td>\n",
              "      <td>21201.0</td>\n",
              "      <td>3.240083</td>\n",
              "      <td>1.567295</td>\n",
              "      <td>1.000000</td>\n",
              "      <td>2.000000</td>\n",
              "      <td>3.000000</td>\n",
              "      <td>5.000000</td>\n",
              "      <td>7.000000</td>\n",
              "    </tr>\n",
              "    <tr>\n",
              "      <td>Confirmation - Day of Month</td>\n",
              "      <td>21201.0</td>\n",
              "      <td>15.653837</td>\n",
              "      <td>8.798886</td>\n",
              "      <td>1.000000</td>\n",
              "      <td>8.000000</td>\n",
              "      <td>15.000000</td>\n",
              "      <td>23.000000</td>\n",
              "      <td>31.000000</td>\n",
              "    </tr>\n",
              "    <tr>\n",
              "      <td>Confirmation - Weekday (Mo = 1)</td>\n",
              "      <td>21201.0</td>\n",
              "      <td>3.240225</td>\n",
              "      <td>1.567228</td>\n",
              "      <td>1.000000</td>\n",
              "      <td>2.000000</td>\n",
              "      <td>3.000000</td>\n",
              "      <td>5.000000</td>\n",
              "      <td>7.000000</td>\n",
              "    </tr>\n",
              "    <tr>\n",
              "      <td>Arrival at Pickup - Day of Month</td>\n",
              "      <td>21201.0</td>\n",
              "      <td>15.653837</td>\n",
              "      <td>8.798886</td>\n",
              "      <td>1.000000</td>\n",
              "      <td>8.000000</td>\n",
              "      <td>15.000000</td>\n",
              "      <td>23.000000</td>\n",
              "      <td>31.000000</td>\n",
              "    </tr>\n",
              "    <tr>\n",
              "      <td>Arrival at Pickup - Weekday (Mo = 1)</td>\n",
              "      <td>21201.0</td>\n",
              "      <td>3.240225</td>\n",
              "      <td>1.567228</td>\n",
              "      <td>1.000000</td>\n",
              "      <td>2.000000</td>\n",
              "      <td>3.000000</td>\n",
              "      <td>5.000000</td>\n",
              "      <td>7.000000</td>\n",
              "    </tr>\n",
              "    <tr>\n",
              "      <td>Pickup - Day of Month</td>\n",
              "      <td>21201.0</td>\n",
              "      <td>15.653837</td>\n",
              "      <td>8.798886</td>\n",
              "      <td>1.000000</td>\n",
              "      <td>8.000000</td>\n",
              "      <td>15.000000</td>\n",
              "      <td>23.000000</td>\n",
              "      <td>31.000000</td>\n",
              "    </tr>\n",
              "    <tr>\n",
              "      <td>Pickup - Weekday (Mo = 1)</td>\n",
              "      <td>21201.0</td>\n",
              "      <td>3.240225</td>\n",
              "      <td>1.567228</td>\n",
              "      <td>1.000000</td>\n",
              "      <td>2.000000</td>\n",
              "      <td>3.000000</td>\n",
              "      <td>5.000000</td>\n",
              "      <td>7.000000</td>\n",
              "    </tr>\n",
              "    <tr>\n",
              "      <td>Arrival at Destination - Day of Month</td>\n",
              "      <td>21201.0</td>\n",
              "      <td>15.653837</td>\n",
              "      <td>8.798886</td>\n",
              "      <td>1.000000</td>\n",
              "      <td>8.000000</td>\n",
              "      <td>15.000000</td>\n",
              "      <td>23.000000</td>\n",
              "      <td>31.000000</td>\n",
              "    </tr>\n",
              "    <tr>\n",
              "      <td>Arrival at Destination - Weekday (Mo = 1)</td>\n",
              "      <td>21201.0</td>\n",
              "      <td>3.240225</td>\n",
              "      <td>1.567228</td>\n",
              "      <td>1.000000</td>\n",
              "      <td>2.000000</td>\n",
              "      <td>3.000000</td>\n",
              "      <td>5.000000</td>\n",
              "      <td>7.000000</td>\n",
              "    </tr>\n",
              "    <tr>\n",
              "      <td>Distance (KM)</td>\n",
              "      <td>21201.0</td>\n",
              "      <td>9.506533</td>\n",
              "      <td>5.668963</td>\n",
              "      <td>1.000000</td>\n",
              "      <td>5.000000</td>\n",
              "      <td>8.000000</td>\n",
              "      <td>13.000000</td>\n",
              "      <td>49.000000</td>\n",
              "    </tr>\n",
              "    <tr>\n",
              "      <td>Temperature</td>\n",
              "      <td>16835.0</td>\n",
              "      <td>23.258889</td>\n",
              "      <td>3.615768</td>\n",
              "      <td>11.200000</td>\n",
              "      <td>20.600000</td>\n",
              "      <td>23.500000</td>\n",
              "      <td>26.000000</td>\n",
              "      <td>32.100000</td>\n",
              "    </tr>\n",
              "    <tr>\n",
              "      <td>Precipitation in millimeters</td>\n",
              "      <td>552.0</td>\n",
              "      <td>7.905797</td>\n",
              "      <td>17.089971</td>\n",
              "      <td>0.100000</td>\n",
              "      <td>1.075000</td>\n",
              "      <td>2.900000</td>\n",
              "      <td>4.900000</td>\n",
              "      <td>99.100000</td>\n",
              "    </tr>\n",
              "    <tr>\n",
              "      <td>Pickup Lat</td>\n",
              "      <td>21201.0</td>\n",
              "      <td>-1.281470</td>\n",
              "      <td>0.030507</td>\n",
              "      <td>-1.438302</td>\n",
              "      <td>-1.300921</td>\n",
              "      <td>-1.279395</td>\n",
              "      <td>-1.257147</td>\n",
              "      <td>-1.147170</td>\n",
              "    </tr>\n",
              "    <tr>\n",
              "      <td>Pickup Long</td>\n",
              "      <td>21201.0</td>\n",
              "      <td>36.811264</td>\n",
              "      <td>0.037473</td>\n",
              "      <td>36.653621</td>\n",
              "      <td>36.784605</td>\n",
              "      <td>36.807040</td>\n",
              "      <td>36.829741</td>\n",
              "      <td>36.991046</td>\n",
              "    </tr>\n",
              "    <tr>\n",
              "      <td>Destination Lat</td>\n",
              "      <td>21201.0</td>\n",
              "      <td>-1.282581</td>\n",
              "      <td>0.034824</td>\n",
              "      <td>-1.430298</td>\n",
              "      <td>-1.301201</td>\n",
              "      <td>-1.284382</td>\n",
              "      <td>-1.261177</td>\n",
              "      <td>-1.030225</td>\n",
              "    </tr>\n",
              "    <tr>\n",
              "      <td>Destination Long</td>\n",
              "      <td>21201.0</td>\n",
              "      <td>36.811220</td>\n",
              "      <td>0.044721</td>\n",
              "      <td>36.606594</td>\n",
              "      <td>36.785661</td>\n",
              "      <td>36.808002</td>\n",
              "      <td>36.829477</td>\n",
              "      <td>37.016779</td>\n",
              "    </tr>\n",
              "    <tr>\n",
              "      <td>Time from Pickup to Arrival</td>\n",
              "      <td>21201.0</td>\n",
              "      <td>1556.920947</td>\n",
              "      <td>987.270788</td>\n",
              "      <td>1.000000</td>\n",
              "      <td>882.000000</td>\n",
              "      <td>1369.000000</td>\n",
              "      <td>2040.000000</td>\n",
              "      <td>7883.000000</td>\n",
              "    </tr>\n",
              "    <tr>\n",
              "      <td>No_Of_Orders</td>\n",
              "      <td>21201.0</td>\n",
              "      <td>1692.423706</td>\n",
              "      <td>1574.308302</td>\n",
              "      <td>2.000000</td>\n",
              "      <td>557.000000</td>\n",
              "      <td>1212.000000</td>\n",
              "      <td>2311.000000</td>\n",
              "      <td>9756.000000</td>\n",
              "    </tr>\n",
              "    <tr>\n",
              "      <td>Age</td>\n",
              "      <td>21201.0</td>\n",
              "      <td>984.742842</td>\n",
              "      <td>646.652835</td>\n",
              "      <td>96.000000</td>\n",
              "      <td>495.000000</td>\n",
              "      <td>872.000000</td>\n",
              "      <td>1236.000000</td>\n",
              "      <td>3764.000000</td>\n",
              "    </tr>\n",
              "    <tr>\n",
              "      <td>Average_Rating</td>\n",
              "      <td>21201.0</td>\n",
              "      <td>13.882520</td>\n",
              "      <td>0.916071</td>\n",
              "      <td>0.000000</td>\n",
              "      <td>13.600000</td>\n",
              "      <td>14.000000</td>\n",
              "      <td>14.300000</td>\n",
              "      <td>15.200000</td>\n",
              "    </tr>\n",
              "    <tr>\n",
              "      <td>No_of_Ratings</td>\n",
              "      <td>21201.0</td>\n",
              "      <td>341.067119</td>\n",
              "      <td>402.867746</td>\n",
              "      <td>0.000000</td>\n",
              "      <td>61.000000</td>\n",
              "      <td>161.000000</td>\n",
              "      <td>495.000000</td>\n",
              "      <td>2298.000000</td>\n",
              "    </tr>\n",
              "  </tbody>\n",
              "</table>\n",
              "</div>"
            ],
            "text/plain": [
              "                                             count         mean          std  \\\n",
              "Platform Type                              21201.0     2.752182     0.625178   \n",
              "Placement - Day of Month                   21201.0    15.653696     8.798916   \n",
              "Placement - Weekday (Mo = 1)               21201.0     3.240083     1.567295   \n",
              "Confirmation - Day of Month                21201.0    15.653837     8.798886   \n",
              "Confirmation - Weekday (Mo = 1)            21201.0     3.240225     1.567228   \n",
              "Arrival at Pickup - Day of Month           21201.0    15.653837     8.798886   \n",
              "Arrival at Pickup - Weekday (Mo = 1)       21201.0     3.240225     1.567228   \n",
              "Pickup - Day of Month                      21201.0    15.653837     8.798886   \n",
              "Pickup - Weekday (Mo = 1)                  21201.0     3.240225     1.567228   \n",
              "Arrival at Destination - Day of Month      21201.0    15.653837     8.798886   \n",
              "Arrival at Destination - Weekday (Mo = 1)  21201.0     3.240225     1.567228   \n",
              "Distance (KM)                              21201.0     9.506533     5.668963   \n",
              "Temperature                                16835.0    23.258889     3.615768   \n",
              "Precipitation in millimeters                 552.0     7.905797    17.089971   \n",
              "Pickup Lat                                 21201.0    -1.281470     0.030507   \n",
              "Pickup Long                                21201.0    36.811264     0.037473   \n",
              "Destination Lat                            21201.0    -1.282581     0.034824   \n",
              "Destination Long                           21201.0    36.811220     0.044721   \n",
              "Time from Pickup to Arrival                21201.0  1556.920947   987.270788   \n",
              "No_Of_Orders                               21201.0  1692.423706  1574.308302   \n",
              "Age                                        21201.0   984.742842   646.652835   \n",
              "Average_Rating                             21201.0    13.882520     0.916071   \n",
              "No_of_Ratings                              21201.0   341.067119   402.867746   \n",
              "\n",
              "                                                 min         25%          50%  \\\n",
              "Platform Type                               1.000000    3.000000     3.000000   \n",
              "Placement - Day of Month                    1.000000    8.000000    15.000000   \n",
              "Placement - Weekday (Mo = 1)                1.000000    2.000000     3.000000   \n",
              "Confirmation - Day of Month                 1.000000    8.000000    15.000000   \n",
              "Confirmation - Weekday (Mo = 1)             1.000000    2.000000     3.000000   \n",
              "Arrival at Pickup - Day of Month            1.000000    8.000000    15.000000   \n",
              "Arrival at Pickup - Weekday (Mo = 1)        1.000000    2.000000     3.000000   \n",
              "Pickup - Day of Month                       1.000000    8.000000    15.000000   \n",
              "Pickup - Weekday (Mo = 1)                   1.000000    2.000000     3.000000   \n",
              "Arrival at Destination - Day of Month       1.000000    8.000000    15.000000   \n",
              "Arrival at Destination - Weekday (Mo = 1)   1.000000    2.000000     3.000000   \n",
              "Distance (KM)                               1.000000    5.000000     8.000000   \n",
              "Temperature                                11.200000   20.600000    23.500000   \n",
              "Precipitation in millimeters                0.100000    1.075000     2.900000   \n",
              "Pickup Lat                                 -1.438302   -1.300921    -1.279395   \n",
              "Pickup Long                                36.653621   36.784605    36.807040   \n",
              "Destination Lat                            -1.430298   -1.301201    -1.284382   \n",
              "Destination Long                           36.606594   36.785661    36.808002   \n",
              "Time from Pickup to Arrival                 1.000000  882.000000  1369.000000   \n",
              "No_Of_Orders                                2.000000  557.000000  1212.000000   \n",
              "Age                                        96.000000  495.000000   872.000000   \n",
              "Average_Rating                              0.000000   13.600000    14.000000   \n",
              "No_of_Ratings                               0.000000   61.000000   161.000000   \n",
              "\n",
              "                                                   75%          max  \n",
              "Platform Type                                 3.000000     4.000000  \n",
              "Placement - Day of Month                     23.000000    31.000000  \n",
              "Placement - Weekday (Mo = 1)                  5.000000     7.000000  \n",
              "Confirmation - Day of Month                  23.000000    31.000000  \n",
              "Confirmation - Weekday (Mo = 1)               5.000000     7.000000  \n",
              "Arrival at Pickup - Day of Month             23.000000    31.000000  \n",
              "Arrival at Pickup - Weekday (Mo = 1)          5.000000     7.000000  \n",
              "Pickup - Day of Month                        23.000000    31.000000  \n",
              "Pickup - Weekday (Mo = 1)                     5.000000     7.000000  \n",
              "Arrival at Destination - Day of Month        23.000000    31.000000  \n",
              "Arrival at Destination - Weekday (Mo = 1)     5.000000     7.000000  \n",
              "Distance (KM)                                13.000000    49.000000  \n",
              "Temperature                                  26.000000    32.100000  \n",
              "Precipitation in millimeters                  4.900000    99.100000  \n",
              "Pickup Lat                                   -1.257147    -1.147170  \n",
              "Pickup Long                                  36.829741    36.991046  \n",
              "Destination Lat                              -1.261177    -1.030225  \n",
              "Destination Long                             36.829477    37.016779  \n",
              "Time from Pickup to Arrival                2040.000000  7883.000000  \n",
              "No_Of_Orders                               2311.000000  9756.000000  \n",
              "Age                                        1236.000000  3764.000000  \n",
              "Average_Rating                               14.300000    15.200000  \n",
              "No_of_Ratings                               495.000000  2298.000000  "
            ]
          },
          "metadata": {
            "tags": []
          },
          "execution_count": 9
        }
      ]
    },
    {
      "cell_type": "code",
      "metadata": {
        "id": "-VcWSym8yO1v",
        "colab_type": "code",
        "colab": {},
        "outputId": "8cca4d39-ebfe-4347-9154-d9701814aad5"
      },
      "source": [
        "test_rd.describe().T"
      ],
      "execution_count": 0,
      "outputs": [
        {
          "output_type": "execute_result",
          "data": {
            "text/html": [
              "<div>\n",
              "<style scoped>\n",
              "    .dataframe tbody tr th:only-of-type {\n",
              "        vertical-align: middle;\n",
              "    }\n",
              "\n",
              "    .dataframe tbody tr th {\n",
              "        vertical-align: top;\n",
              "    }\n",
              "\n",
              "    .dataframe thead th {\n",
              "        text-align: right;\n",
              "    }\n",
              "</style>\n",
              "<table border=\"1\" class=\"dataframe\">\n",
              "  <thead>\n",
              "    <tr style=\"text-align: right;\">\n",
              "      <th></th>\n",
              "      <th>count</th>\n",
              "      <th>mean</th>\n",
              "      <th>std</th>\n",
              "      <th>min</th>\n",
              "      <th>25%</th>\n",
              "      <th>50%</th>\n",
              "      <th>75%</th>\n",
              "      <th>max</th>\n",
              "    </tr>\n",
              "  </thead>\n",
              "  <tbody>\n",
              "    <tr>\n",
              "      <td>Platform Type</td>\n",
              "      <td>7068.0</td>\n",
              "      <td>2.752122</td>\n",
              "      <td>0.624000</td>\n",
              "      <td>1.000000</td>\n",
              "      <td>3.000000</td>\n",
              "      <td>3.000000</td>\n",
              "      <td>3.000000</td>\n",
              "      <td>4.000000</td>\n",
              "    </tr>\n",
              "    <tr>\n",
              "      <td>Placement - Day of Month</td>\n",
              "      <td>7068.0</td>\n",
              "      <td>15.621817</td>\n",
              "      <td>8.776650</td>\n",
              "      <td>1.000000</td>\n",
              "      <td>8.000000</td>\n",
              "      <td>15.000000</td>\n",
              "      <td>23.000000</td>\n",
              "      <td>31.000000</td>\n",
              "    </tr>\n",
              "    <tr>\n",
              "      <td>Placement - Weekday (Mo = 1)</td>\n",
              "      <td>7068.0</td>\n",
              "      <td>3.249859</td>\n",
              "      <td>1.580926</td>\n",
              "      <td>1.000000</td>\n",
              "      <td>2.000000</td>\n",
              "      <td>3.000000</td>\n",
              "      <td>5.000000</td>\n",
              "      <td>7.000000</td>\n",
              "    </tr>\n",
              "    <tr>\n",
              "      <td>Confirmation - Day of Month</td>\n",
              "      <td>7068.0</td>\n",
              "      <td>15.621817</td>\n",
              "      <td>8.776650</td>\n",
              "      <td>1.000000</td>\n",
              "      <td>8.000000</td>\n",
              "      <td>15.000000</td>\n",
              "      <td>23.000000</td>\n",
              "      <td>31.000000</td>\n",
              "    </tr>\n",
              "    <tr>\n",
              "      <td>Confirmation - Weekday (Mo = 1)</td>\n",
              "      <td>7068.0</td>\n",
              "      <td>3.249859</td>\n",
              "      <td>1.580926</td>\n",
              "      <td>1.000000</td>\n",
              "      <td>2.000000</td>\n",
              "      <td>3.000000</td>\n",
              "      <td>5.000000</td>\n",
              "      <td>7.000000</td>\n",
              "    </tr>\n",
              "    <tr>\n",
              "      <td>Arrival at Pickup - Day of Month</td>\n",
              "      <td>7068.0</td>\n",
              "      <td>15.621817</td>\n",
              "      <td>8.776650</td>\n",
              "      <td>1.000000</td>\n",
              "      <td>8.000000</td>\n",
              "      <td>15.000000</td>\n",
              "      <td>23.000000</td>\n",
              "      <td>31.000000</td>\n",
              "    </tr>\n",
              "    <tr>\n",
              "      <td>Arrival at Pickup - Weekday (Mo = 1)</td>\n",
              "      <td>7068.0</td>\n",
              "      <td>3.249859</td>\n",
              "      <td>1.580926</td>\n",
              "      <td>1.000000</td>\n",
              "      <td>2.000000</td>\n",
              "      <td>3.000000</td>\n",
              "      <td>5.000000</td>\n",
              "      <td>7.000000</td>\n",
              "    </tr>\n",
              "    <tr>\n",
              "      <td>Pickup - Day of Month</td>\n",
              "      <td>7068.0</td>\n",
              "      <td>15.621817</td>\n",
              "      <td>8.776650</td>\n",
              "      <td>1.000000</td>\n",
              "      <td>8.000000</td>\n",
              "      <td>15.000000</td>\n",
              "      <td>23.000000</td>\n",
              "      <td>31.000000</td>\n",
              "    </tr>\n",
              "    <tr>\n",
              "      <td>Pickup - Weekday (Mo = 1)</td>\n",
              "      <td>7068.0</td>\n",
              "      <td>3.249859</td>\n",
              "      <td>1.580926</td>\n",
              "      <td>1.000000</td>\n",
              "      <td>2.000000</td>\n",
              "      <td>3.000000</td>\n",
              "      <td>5.000000</td>\n",
              "      <td>7.000000</td>\n",
              "    </tr>\n",
              "    <tr>\n",
              "      <td>Distance (KM)</td>\n",
              "      <td>7068.0</td>\n",
              "      <td>9.458970</td>\n",
              "      <td>5.575689</td>\n",
              "      <td>1.000000</td>\n",
              "      <td>5.000000</td>\n",
              "      <td>8.000000</td>\n",
              "      <td>13.000000</td>\n",
              "      <td>47.000000</td>\n",
              "    </tr>\n",
              "    <tr>\n",
              "      <td>Temperature</td>\n",
              "      <td>5631.0</td>\n",
              "      <td>23.246120</td>\n",
              "      <td>3.591161</td>\n",
              "      <td>13.200000</td>\n",
              "      <td>20.600000</td>\n",
              "      <td>23.400000</td>\n",
              "      <td>25.900000</td>\n",
              "      <td>32.100000</td>\n",
              "    </tr>\n",
              "    <tr>\n",
              "      <td>Precipitation in millimeters</td>\n",
              "      <td>199.0</td>\n",
              "      <td>6.651759</td>\n",
              "      <td>14.085439</td>\n",
              "      <td>0.100000</td>\n",
              "      <td>1.100000</td>\n",
              "      <td>2.900000</td>\n",
              "      <td>4.950000</td>\n",
              "      <td>99.100000</td>\n",
              "    </tr>\n",
              "    <tr>\n",
              "      <td>Pickup Lat</td>\n",
              "      <td>7068.0</td>\n",
              "      <td>-1.282043</td>\n",
              "      <td>0.030044</td>\n",
              "      <td>-1.433512</td>\n",
              "      <td>-1.301201</td>\n",
              "      <td>-1.281301</td>\n",
              "      <td>-1.257274</td>\n",
              "      <td>-1.148352</td>\n",
              "    </tr>\n",
              "    <tr>\n",
              "      <td>Pickup Long</td>\n",
              "      <td>7068.0</td>\n",
              "      <td>36.811148</td>\n",
              "      <td>0.037962</td>\n",
              "      <td>36.653828</td>\n",
              "      <td>36.784605</td>\n",
              "      <td>36.807219</td>\n",
              "      <td>36.829716</td>\n",
              "      <td>36.991046</td>\n",
              "    </tr>\n",
              "    <tr>\n",
              "      <td>Destination Lat</td>\n",
              "      <td>7068.0</td>\n",
              "      <td>-1.282255</td>\n",
              "      <td>0.034236</td>\n",
              "      <td>-1.422652</td>\n",
              "      <td>-1.300921</td>\n",
              "      <td>-1.283219</td>\n",
              "      <td>-1.261256</td>\n",
              "      <td>-1.030225</td>\n",
              "    </tr>\n",
              "    <tr>\n",
              "      <td>Destination Long</td>\n",
              "      <td>7068.0</td>\n",
              "      <td>36.811326</td>\n",
              "      <td>0.043507</td>\n",
              "      <td>36.639195</td>\n",
              "      <td>36.786546</td>\n",
              "      <td>36.807927</td>\n",
              "      <td>36.828195</td>\n",
              "      <td>37.018958</td>\n",
              "    </tr>\n",
              "    <tr>\n",
              "      <td>No_Of_Orders</td>\n",
              "      <td>7068.0</td>\n",
              "      <td>1717.032258</td>\n",
              "      <td>1628.842795</td>\n",
              "      <td>3.000000</td>\n",
              "      <td>534.000000</td>\n",
              "      <td>1209.000000</td>\n",
              "      <td>2311.000000</td>\n",
              "      <td>9756.000000</td>\n",
              "    </tr>\n",
              "    <tr>\n",
              "      <td>Age</td>\n",
              "      <td>7068.0</td>\n",
              "      <td>998.400113</td>\n",
              "      <td>672.195000</td>\n",
              "      <td>99.000000</td>\n",
              "      <td>494.000000</td>\n",
              "      <td>872.000000</td>\n",
              "      <td>1239.000000</td>\n",
              "      <td>3764.000000</td>\n",
              "    </tr>\n",
              "    <tr>\n",
              "      <td>Average_Rating</td>\n",
              "      <td>7068.0</td>\n",
              "      <td>13.883178</td>\n",
              "      <td>0.846333</td>\n",
              "      <td>0.000000</td>\n",
              "      <td>13.600000</td>\n",
              "      <td>14.000000</td>\n",
              "      <td>14.300000</td>\n",
              "      <td>15.200000</td>\n",
              "    </tr>\n",
              "    <tr>\n",
              "      <td>No_of_Ratings</td>\n",
              "      <td>7068.0</td>\n",
              "      <td>342.815789</td>\n",
              "      <td>410.064334</td>\n",
              "      <td>0.000000</td>\n",
              "      <td>60.000000</td>\n",
              "      <td>157.000000</td>\n",
              "      <td>491.000000</td>\n",
              "      <td>2298.000000</td>\n",
              "    </tr>\n",
              "  </tbody>\n",
              "</table>\n",
              "</div>"
            ],
            "text/plain": [
              "                                       count         mean          std  \\\n",
              "Platform Type                         7068.0     2.752122     0.624000   \n",
              "Placement - Day of Month              7068.0    15.621817     8.776650   \n",
              "Placement - Weekday (Mo = 1)          7068.0     3.249859     1.580926   \n",
              "Confirmation - Day of Month           7068.0    15.621817     8.776650   \n",
              "Confirmation - Weekday (Mo = 1)       7068.0     3.249859     1.580926   \n",
              "Arrival at Pickup - Day of Month      7068.0    15.621817     8.776650   \n",
              "Arrival at Pickup - Weekday (Mo = 1)  7068.0     3.249859     1.580926   \n",
              "Pickup - Day of Month                 7068.0    15.621817     8.776650   \n",
              "Pickup - Weekday (Mo = 1)             7068.0     3.249859     1.580926   \n",
              "Distance (KM)                         7068.0     9.458970     5.575689   \n",
              "Temperature                           5631.0    23.246120     3.591161   \n",
              "Precipitation in millimeters           199.0     6.651759    14.085439   \n",
              "Pickup Lat                            7068.0    -1.282043     0.030044   \n",
              "Pickup Long                           7068.0    36.811148     0.037962   \n",
              "Destination Lat                       7068.0    -1.282255     0.034236   \n",
              "Destination Long                      7068.0    36.811326     0.043507   \n",
              "No_Of_Orders                          7068.0  1717.032258  1628.842795   \n",
              "Age                                   7068.0   998.400113   672.195000   \n",
              "Average_Rating                        7068.0    13.883178     0.846333   \n",
              "No_of_Ratings                         7068.0   342.815789   410.064334   \n",
              "\n",
              "                                            min         25%          50%  \\\n",
              "Platform Type                          1.000000    3.000000     3.000000   \n",
              "Placement - Day of Month               1.000000    8.000000    15.000000   \n",
              "Placement - Weekday (Mo = 1)           1.000000    2.000000     3.000000   \n",
              "Confirmation - Day of Month            1.000000    8.000000    15.000000   \n",
              "Confirmation - Weekday (Mo = 1)        1.000000    2.000000     3.000000   \n",
              "Arrival at Pickup - Day of Month       1.000000    8.000000    15.000000   \n",
              "Arrival at Pickup - Weekday (Mo = 1)   1.000000    2.000000     3.000000   \n",
              "Pickup - Day of Month                  1.000000    8.000000    15.000000   \n",
              "Pickup - Weekday (Mo = 1)              1.000000    2.000000     3.000000   \n",
              "Distance (KM)                          1.000000    5.000000     8.000000   \n",
              "Temperature                           13.200000   20.600000    23.400000   \n",
              "Precipitation in millimeters           0.100000    1.100000     2.900000   \n",
              "Pickup Lat                            -1.433512   -1.301201    -1.281301   \n",
              "Pickup Long                           36.653828   36.784605    36.807219   \n",
              "Destination Lat                       -1.422652   -1.300921    -1.283219   \n",
              "Destination Long                      36.639195   36.786546    36.807927   \n",
              "No_Of_Orders                           3.000000  534.000000  1209.000000   \n",
              "Age                                   99.000000  494.000000   872.000000   \n",
              "Average_Rating                         0.000000   13.600000    14.000000   \n",
              "No_of_Ratings                          0.000000   60.000000   157.000000   \n",
              "\n",
              "                                              75%          max  \n",
              "Platform Type                            3.000000     4.000000  \n",
              "Placement - Day of Month                23.000000    31.000000  \n",
              "Placement - Weekday (Mo = 1)             5.000000     7.000000  \n",
              "Confirmation - Day of Month             23.000000    31.000000  \n",
              "Confirmation - Weekday (Mo = 1)          5.000000     7.000000  \n",
              "Arrival at Pickup - Day of Month        23.000000    31.000000  \n",
              "Arrival at Pickup - Weekday (Mo = 1)     5.000000     7.000000  \n",
              "Pickup - Day of Month                   23.000000    31.000000  \n",
              "Pickup - Weekday (Mo = 1)                5.000000     7.000000  \n",
              "Distance (KM)                           13.000000    47.000000  \n",
              "Temperature                             25.900000    32.100000  \n",
              "Precipitation in millimeters             4.950000    99.100000  \n",
              "Pickup Lat                              -1.257274    -1.148352  \n",
              "Pickup Long                             36.829716    36.991046  \n",
              "Destination Lat                         -1.261256    -1.030225  \n",
              "Destination Long                        36.828195    37.018958  \n",
              "No_Of_Orders                          2311.000000  9756.000000  \n",
              "Age                                   1239.000000  3764.000000  \n",
              "Average_Rating                          14.300000    15.200000  \n",
              "No_of_Ratings                          491.000000  2298.000000  "
            ]
          },
          "metadata": {
            "tags": []
          },
          "execution_count": 10
        }
      ]
    },
    {
      "cell_type": "markdown",
      "metadata": {
        "id": "P0xjx-DkyO1z",
        "colab_type": "text"
      },
      "source": [
        "on both the training and test sets we observe that the mean is a bit higher thatn the meadian and we also have a huge difference between the 75th percentile and the max which tells us that we might be having outliers"
      ]
    },
    {
      "cell_type": "markdown",
      "metadata": {
        "id": "Ds3POIPCyO1z",
        "colab_type": "text"
      },
      "source": [
        "## Missing values"
      ]
    },
    {
      "cell_type": "code",
      "metadata": {
        "id": "eYqjIftpyO10",
        "colab_type": "code",
        "colab": {},
        "outputId": "d5b3de88-9ee3-48ed-dedb-abb8bf7f1cf9"
      },
      "source": [
        "train_rd.isnull().sum()"
      ],
      "execution_count": 0,
      "outputs": [
        {
          "output_type": "execute_result",
          "data": {
            "text/plain": [
              "Order No                                         0\n",
              "User Id                                          0\n",
              "Vehicle Type                                     0\n",
              "Platform Type                                    0\n",
              "Personal or Business                             0\n",
              "Placement - Day of Month                         0\n",
              "Placement - Weekday (Mo = 1)                     0\n",
              "Placement - Time                                 0\n",
              "Confirmation - Day of Month                      0\n",
              "Confirmation - Weekday (Mo = 1)                  0\n",
              "Confirmation - Time                              0\n",
              "Arrival at Pickup - Day of Month                 0\n",
              "Arrival at Pickup - Weekday (Mo = 1)             0\n",
              "Arrival at Pickup - Time                         0\n",
              "Pickup - Day of Month                            0\n",
              "Pickup - Weekday (Mo = 1)                        0\n",
              "Pickup - Time                                    0\n",
              "Arrival at Destination - Day of Month            0\n",
              "Arrival at Destination - Weekday (Mo = 1)        0\n",
              "Arrival at Destination - Time                    0\n",
              "Distance (KM)                                    0\n",
              "Temperature                                   4366\n",
              "Precipitation in millimeters                 20649\n",
              "Pickup Lat                                       0\n",
              "Pickup Long                                      0\n",
              "Destination Lat                                  0\n",
              "Destination Long                                 0\n",
              "Rider Id                                         0\n",
              "Time from Pickup to Arrival                      0\n",
              "No_Of_Orders                                     0\n",
              "Age                                              0\n",
              "Average_Rating                                   0\n",
              "No_of_Ratings                                    0\n",
              "dtype: int64"
            ]
          },
          "metadata": {
            "tags": []
          },
          "execution_count": 11
        }
      ]
    },
    {
      "cell_type": "code",
      "metadata": {
        "id": "d3OkxASxyO15",
        "colab_type": "code",
        "colab": {},
        "outputId": "56817412-0a16-4e9d-fb3f-e5a12a4f4603"
      },
      "source": [
        "test_rd.isnull().sum()"
      ],
      "execution_count": 0,
      "outputs": [
        {
          "output_type": "execute_result",
          "data": {
            "text/plain": [
              "Order No                                   0\n",
              "User Id                                    0\n",
              "Vehicle Type                               0\n",
              "Platform Type                              0\n",
              "Personal or Business                       0\n",
              "Placement - Day of Month                   0\n",
              "Placement - Weekday (Mo = 1)               0\n",
              "Placement - Time                           0\n",
              "Confirmation - Day of Month                0\n",
              "Confirmation - Weekday (Mo = 1)            0\n",
              "Confirmation - Time                        0\n",
              "Arrival at Pickup - Day of Month           0\n",
              "Arrival at Pickup - Weekday (Mo = 1)       0\n",
              "Arrival at Pickup - Time                   0\n",
              "Pickup - Day of Month                      0\n",
              "Pickup - Weekday (Mo = 1)                  0\n",
              "Pickup - Time                              0\n",
              "Distance (KM)                              0\n",
              "Temperature                             1437\n",
              "Precipitation in millimeters            6869\n",
              "Pickup Lat                                 0\n",
              "Pickup Long                                0\n",
              "Destination Lat                            0\n",
              "Destination Long                           0\n",
              "Rider Id                                   0\n",
              "No_Of_Orders                               0\n",
              "Age                                        0\n",
              "Average_Rating                             0\n",
              "No_of_Ratings                              0\n",
              "dtype: int64"
            ]
          },
          "metadata": {
            "tags": []
          },
          "execution_count": 12
        }
      ]
    },
    {
      "cell_type": "markdown",
      "metadata": {
        "id": "qzWp6vAqyO18",
        "colab_type": "text"
      },
      "source": [
        "in both datasets we have missing values in Temperature and Precipitation in millimeters"
      ]
    },
    {
      "cell_type": "markdown",
      "metadata": {
        "id": "PejwHtnSyO18",
        "colab_type": "text"
      },
      "source": [
        "## Check Correlation using a Heatmap"
      ]
    },
    {
      "cell_type": "code",
      "metadata": {
        "id": "pN_j5SypyO19",
        "colab_type": "code",
        "colab": {},
        "outputId": "79803d63-b78f-441c-c2fd-4d9f2410806c"
      },
      "source": [
        "import matplotlib.style as style\n",
        "\n",
        "plt.figure(figsize=(12,8))\n",
        "sns.heatmap(train_rd.corr(),annot=True) \n",
        "plt.title('Heatmap', fontsize=20)"
      ],
      "execution_count": 0,
      "outputs": [
        {
          "output_type": "execute_result",
          "data": {
            "text/plain": [
              "Text(0.5, 1, 'Heatmap')"
            ]
          },
          "metadata": {
            "tags": []
          },
          "execution_count": 13
        },
        {
          "output_type": "display_data",
          "data": {
            "image/png": "[encoded data removed]",
            "text/plain": [
              "<Figure size 864x576 with 2 Axes>"
            ]
          },
          "metadata": {
            "tags": [],
            "needs_background": "light"
          }
        }
      ]
    },
    {
      "cell_type": "markdown",
      "metadata": {
        "id": "DrN_F7WdyO2B",
        "colab_type": "text"
      },
      "source": [
        "Values closer or equal to 1 are positively correlated"
      ]
    },
    {
      "cell_type": "markdown",
      "metadata": {
        "id": "dC29ngrlyO2C",
        "colab_type": "text"
      },
      "source": [
        "## replacing missing values"
      ]
    },
    {
      "cell_type": "markdown",
      "metadata": {
        "id": "AZikrjXTyO2C",
        "colab_type": "text"
      },
      "source": [
        "### Temperature Feature"
      ]
    },
    {
      "cell_type": "code",
      "metadata": {
        "id": "au5ZWQ3ByO2D",
        "colab_type": "code",
        "colab": {},
        "outputId": "22a0035c-a97f-470c-98ff-7469f1180b34"
      },
      "source": [
        "# Number of missing values\n",
        "print('Train missing values :',train_rd['Temperature'].isnull().sum())\n",
        "print('Test missing values  :',test_rd['Temperature'].isnull().sum())"
      ],
      "execution_count": 0,
      "outputs": [
        {
          "output_type": "stream",
          "text": [
            "Train missing values : 4366\n",
            "Test missing values  : 1437\n"
          ],
          "name": "stdout"
        }
      ]
    },
    {
      "cell_type": "code",
      "metadata": {
        "id": "TW88tRivyO2G",
        "colab_type": "code",
        "colab": {}
      },
      "source": [
        "## replace missing values\n",
        "train_temp = train_rd['Temperature'].median()\n",
        "train_rd['Temperature'].fillna(train_temp, inplace=True)\n",
        "\n",
        "test_temp = train_rd['Temperature'].median()\n",
        "test_rd['Temperature'].fillna(test_temp, inplace=True)"
      ],
      "execution_count": 0,
      "outputs": []
    },
    {
      "cell_type": "code",
      "metadata": {
        "id": "mD637KyHyO2M",
        "colab_type": "code",
        "colab": {},
        "outputId": "3cab24bb-46ec-4fc1-ec83-9fd5d00c5938"
      },
      "source": [
        "# Number of missing values\n",
        "print('Train missing values :',train_rd['Temperature'].isnull().sum())\n",
        "print('Test missing values  :',test_rd['Temperature'].isnull().sum())"
      ],
      "execution_count": 0,
      "outputs": [
        {
          "output_type": "stream",
          "text": [
            "Train missing values : 0\n",
            "Test missing values  : 0\n"
          ],
          "name": "stdout"
        }
      ]
    },
    {
      "cell_type": "markdown",
      "metadata": {
        "id": "EgP0Tw_4yO2P",
        "colab_type": "text"
      },
      "source": [
        "I replaced values with median since we have outliers"
      ]
    },
    {
      "cell_type": "code",
      "metadata": {
        "id": "Sn6nOvl6yO2P",
        "colab_type": "code",
        "colab": {}
      },
      "source": [
        ""
      ],
      "execution_count": 0,
      "outputs": []
    },
    {
      "cell_type": "markdown",
      "metadata": {
        "id": "1PWsi1NWyO2S",
        "colab_type": "text"
      },
      "source": [
        "### Feature Precipitation in millimeters"
      ]
    },
    {
      "cell_type": "code",
      "metadata": {
        "id": "QSGPtC1ZyO2T",
        "colab_type": "code",
        "colab": {},
        "outputId": "b7e1211f-787e-4838-db87-ef95bdae6e2a"
      },
      "source": [
        "print('Percentage of missing values\\n')\n",
        "print('Train missing values :',train_rd['Precipitation in millimeters'].isnull().mean().round(5)*100,'%')\n",
        "print('Test missing values  :',test_rd['Precipitation in millimeters'].isnull().mean().round(5)*100,'%')"
      ],
      "execution_count": 0,
      "outputs": [
        {
          "output_type": "stream",
          "text": [
            "Percentage of missing values\n",
            "\n",
            "Train missing values : 97.396 %\n",
            "Test missing values  : 97.184 %\n"
          ],
          "name": "stdout"
        }
      ]
    },
    {
      "cell_type": "code",
      "metadata": {
        "id": "YT3uiNKcyO2W",
        "colab_type": "code",
        "colab": {}
      },
      "source": [
        "## replace missing values\n",
        "train_rd['Precipitation in millimeters'].fillna(0, inplace=True)\n",
        "test_rd['Precipitation in millimeters'].fillna(0, inplace=True)"
      ],
      "execution_count": 0,
      "outputs": []
    },
    {
      "cell_type": "code",
      "metadata": {
        "id": "ZnVbbwoMyO2Y",
        "colab_type": "code",
        "colab": {},
        "outputId": "6361e505-d771-47d2-cb38-2e3d6e667bfd"
      },
      "source": [
        "print('Percentage of missing values\\n')\n",
        "print('Train missing values :',train_rd['Precipitation in millimeters'].isnull().mean().round(5)*100,'%')\n",
        "print('Test missing values  :',test_rd['Precipitation in millimeters'].isnull().mean().round(5)*100,'%')"
      ],
      "execution_count": 0,
      "outputs": [
        {
          "output_type": "stream",
          "text": [
            "Percentage of missing values\n",
            "\n",
            "Train missing values : 0.0 %\n",
            "Test missing values  : 0.0 %\n"
          ],
          "name": "stdout"
        }
      ]
    },
    {
      "cell_type": "markdown",
      "metadata": {
        "id": "7INGPFUgyO2b",
        "colab_type": "text"
      },
      "source": [
        "$\\approx$ 97% of the data is missing or unknown so I might drop the entire column or replace the missing data with 0's\n"
      ]
    },
    {
      "cell_type": "code",
      "metadata": {
        "id": "PtaEPvWLyO2c",
        "colab_type": "code",
        "colab": {}
      },
      "source": [
        "# Saving Clean Data\n",
        "train_rd.to_csv('train_clean.csv')\n",
        "test_rd.to_csv('test_clean.csv')"
      ],
      "execution_count": 0,
      "outputs": []
    },
    {
      "cell_type": "markdown",
      "metadata": {
        "id": "AAxPGroAyO2e",
        "colab_type": "text"
      },
      "source": [
        "# Feature Selection"
      ]
    },
    {
      "cell_type": "code",
      "metadata": {
        "id": "cqNK_pvQyO2f",
        "colab_type": "code",
        "colab": {}
      },
      "source": [
        "Droppers = [\"Order No\",\"User Id\",\"Vehicle Type\",'Rider Id']"
      ],
      "execution_count": 0,
      "outputs": []
    },
    {
      "cell_type": "code",
      "metadata": {
        "id": "E5XBveAKyO2j",
        "colab_type": "code",
        "colab": {},
        "outputId": "ea244ebc-2821-48bb-8e4e-7dc49b6f3e6d"
      },
      "source": [
        "# Numeric columns\n",
        "Numeric_Train = train_rd._get_numeric_data()\n",
        "Numeric_Test = test_rd._get_numeric_data()\n",
        "Numeric_Train.head(2)"
      ],
      "execution_count": 0,
      "outputs": [
        {
          "output_type": "execute_result",
          "data": {
            "text/html": [
              "<div>\n",
              "<style scoped>\n",
              "    .dataframe tbody tr th:only-of-type {\n",
              "        vertical-align: middle;\n",
              "    }\n",
              "\n",
              "    .dataframe tbody tr th {\n",
              "        vertical-align: top;\n",
              "    }\n",
              "\n",
              "    .dataframe thead th {\n",
              "        text-align: right;\n",
              "    }\n",
              "</style>\n",
              "<table border=\"1\" class=\"dataframe\">\n",
              "  <thead>\n",
              "    <tr style=\"text-align: right;\">\n",
              "      <th></th>\n",
              "      <th>Platform Type</th>\n",
              "      <th>Placement - Day of Month</th>\n",
              "      <th>Placement - Weekday (Mo = 1)</th>\n",
              "      <th>Confirmation - Day of Month</th>\n",
              "      <th>Confirmation - Weekday (Mo = 1)</th>\n",
              "      <th>Arrival at Pickup - Day of Month</th>\n",
              "      <th>Arrival at Pickup - Weekday (Mo = 1)</th>\n",
              "      <th>Pickup - Day of Month</th>\n",
              "      <th>Pickup - Weekday (Mo = 1)</th>\n",
              "      <th>Arrival at Destination - Day of Month</th>\n",
              "      <th>...</th>\n",
              "      <th>Precipitation in millimeters</th>\n",
              "      <th>Pickup Lat</th>\n",
              "      <th>Pickup Long</th>\n",
              "      <th>Destination Lat</th>\n",
              "      <th>Destination Long</th>\n",
              "      <th>Time from Pickup to Arrival</th>\n",
              "      <th>No_Of_Orders</th>\n",
              "      <th>Age</th>\n",
              "      <th>Average_Rating</th>\n",
              "      <th>No_of_Ratings</th>\n",
              "    </tr>\n",
              "  </thead>\n",
              "  <tbody>\n",
              "    <tr>\n",
              "      <td>0</td>\n",
              "      <td>3</td>\n",
              "      <td>9</td>\n",
              "      <td>5</td>\n",
              "      <td>9</td>\n",
              "      <td>5</td>\n",
              "      <td>9</td>\n",
              "      <td>5</td>\n",
              "      <td>9</td>\n",
              "      <td>5</td>\n",
              "      <td>9</td>\n",
              "      <td>...</td>\n",
              "      <td>0.0</td>\n",
              "      <td>-1.317755</td>\n",
              "      <td>36.830370</td>\n",
              "      <td>-1.300406</td>\n",
              "      <td>36.829741</td>\n",
              "      <td>745</td>\n",
              "      <td>1637</td>\n",
              "      <td>1309</td>\n",
              "      <td>13.8</td>\n",
              "      <td>549</td>\n",
              "    </tr>\n",
              "    <tr>\n",
              "      <td>1</td>\n",
              "      <td>3</td>\n",
              "      <td>12</td>\n",
              "      <td>5</td>\n",
              "      <td>12</td>\n",
              "      <td>5</td>\n",
              "      <td>12</td>\n",
              "      <td>5</td>\n",
              "      <td>12</td>\n",
              "      <td>5</td>\n",
              "      <td>12</td>\n",
              "      <td>...</td>\n",
              "      <td>0.0</td>\n",
              "      <td>-1.351453</td>\n",
              "      <td>36.899315</td>\n",
              "      <td>-1.295004</td>\n",
              "      <td>36.814358</td>\n",
              "      <td>1993</td>\n",
              "      <td>396</td>\n",
              "      <td>339</td>\n",
              "      <td>13.6</td>\n",
              "      <td>69</td>\n",
              "    </tr>\n",
              "  </tbody>\n",
              "</table>\n",
              "<p>2 rows × 23 columns</p>\n",
              "</div>"
            ],
            "text/plain": [
              "   Platform Type  Placement - Day of Month  Placement - Weekday (Mo = 1)  \\\n",
              "0              3                         9                             5   \n",
              "1              3                        12                             5   \n",
              "\n",
              "   Confirmation - Day of Month  Confirmation - Weekday (Mo = 1)  \\\n",
              "0                            9                                5   \n",
              "1                           12                                5   \n",
              "\n",
              "   Arrival at Pickup - Day of Month  Arrival at Pickup - Weekday (Mo = 1)  \\\n",
              "0                                 9                                     5   \n",
              "1                                12                                     5   \n",
              "\n",
              "   Pickup - Day of Month  Pickup - Weekday (Mo = 1)  \\\n",
              "0                      9                          5   \n",
              "1                     12                          5   \n",
              "\n",
              "   Arrival at Destination - Day of Month  ...  Precipitation in millimeters  \\\n",
              "0                                      9  ...                           0.0   \n",
              "1                                     12  ...                           0.0   \n",
              "\n",
              "   Pickup Lat  Pickup Long  Destination Lat  Destination Long  \\\n",
              "0   -1.317755    36.830370        -1.300406         36.829741   \n",
              "1   -1.351453    36.899315        -1.295004         36.814358   \n",
              "\n",
              "   Time from Pickup to Arrival  No_Of_Orders   Age  Average_Rating  \\\n",
              "0                          745          1637  1309            13.8   \n",
              "1                         1993           396   339            13.6   \n",
              "\n",
              "   No_of_Ratings  \n",
              "0            549  \n",
              "1             69  \n",
              "\n",
              "[2 rows x 23 columns]"
            ]
          },
          "metadata": {
            "tags": []
          },
          "execution_count": 22
        }
      ]
    },
    {
      "cell_type": "code",
      "metadata": {
        "id": "nitasbE0yO2n",
        "colab_type": "code",
        "colab": {},
        "outputId": "ab82f370-1c01-4a84-97c9-4a52f1c99ac1"
      },
      "source": [
        "Categorical_Train = train_rd.select_dtypes(include=['object'])\n",
        "Categorical_Test = test_rd.select_dtypes(include=['object'])\n",
        "\n",
        "Categorical_Train.head(2)"
      ],
      "execution_count": 0,
      "outputs": [
        {
          "output_type": "execute_result",
          "data": {
            "text/html": [
              "<div>\n",
              "<style scoped>\n",
              "    .dataframe tbody tr th:only-of-type {\n",
              "        vertical-align: middle;\n",
              "    }\n",
              "\n",
              "    .dataframe tbody tr th {\n",
              "        vertical-align: top;\n",
              "    }\n",
              "\n",
              "    .dataframe thead th {\n",
              "        text-align: right;\n",
              "    }\n",
              "</style>\n",
              "<table border=\"1\" class=\"dataframe\">\n",
              "  <thead>\n",
              "    <tr style=\"text-align: right;\">\n",
              "      <th></th>\n",
              "      <th>Order No</th>\n",
              "      <th>User Id</th>\n",
              "      <th>Vehicle Type</th>\n",
              "      <th>Personal or Business</th>\n",
              "      <th>Placement - Time</th>\n",
              "      <th>Confirmation - Time</th>\n",
              "      <th>Arrival at Pickup - Time</th>\n",
              "      <th>Pickup - Time</th>\n",
              "      <th>Arrival at Destination - Time</th>\n",
              "      <th>Rider Id</th>\n",
              "    </tr>\n",
              "  </thead>\n",
              "  <tbody>\n",
              "    <tr>\n",
              "      <td>0</td>\n",
              "      <td>Order_No_4211</td>\n",
              "      <td>User_Id_633</td>\n",
              "      <td>Bike</td>\n",
              "      <td>Business</td>\n",
              "      <td>9:35:46 AM</td>\n",
              "      <td>9:40:10 AM</td>\n",
              "      <td>10:04:47 AM</td>\n",
              "      <td>10:27:30 AM</td>\n",
              "      <td>10:39:55 AM</td>\n",
              "      <td>Rider_Id_432</td>\n",
              "    </tr>\n",
              "    <tr>\n",
              "      <td>1</td>\n",
              "      <td>Order_No_25375</td>\n",
              "      <td>User_Id_2285</td>\n",
              "      <td>Bike</td>\n",
              "      <td>Personal</td>\n",
              "      <td>11:16:16 AM</td>\n",
              "      <td>11:23:21 AM</td>\n",
              "      <td>11:40:22 AM</td>\n",
              "      <td>11:44:09 AM</td>\n",
              "      <td>12:17:22 PM</td>\n",
              "      <td>Rider_Id_856</td>\n",
              "    </tr>\n",
              "  </tbody>\n",
              "</table>\n",
              "</div>"
            ],
            "text/plain": [
              "         Order No       User Id Vehicle Type Personal or Business  \\\n",
              "0   Order_No_4211   User_Id_633         Bike             Business   \n",
              "1  Order_No_25375  User_Id_2285         Bike             Personal   \n",
              "\n",
              "  Placement - Time Confirmation - Time Arrival at Pickup - Time Pickup - Time  \\\n",
              "0       9:35:46 AM          9:40:10 AM              10:04:47 AM   10:27:30 AM   \n",
              "1      11:16:16 AM         11:23:21 AM              11:40:22 AM   11:44:09 AM   \n",
              "\n",
              "  Arrival at Destination - Time      Rider Id  \n",
              "0                   10:39:55 AM  Rider_Id_432  \n",
              "1                   12:17:22 PM  Rider_Id_856  "
            ]
          },
          "metadata": {
            "tags": []
          },
          "execution_count": 23
        }
      ]
    },
    {
      "cell_type": "code",
      "metadata": {
        "id": "Uh2tkJdYyO2q",
        "colab_type": "code",
        "colab": {}
      },
      "source": [
        "Categorical_Train = Categorical_Train.drop(Droppers, axis=1)\n",
        "Categorical_Test = Categorical_Test.drop(Droppers, axis=1)"
      ],
      "execution_count": 0,
      "outputs": []
    },
    {
      "cell_type": "code",
      "metadata": {
        "id": "UO-ZYtdhyO2t",
        "colab_type": "code",
        "colab": {},
        "outputId": "f15ef8d4-2930-4b8c-ca05-e2bca12c646e"
      },
      "source": [
        "Categorical_Train.head(1)"
      ],
      "execution_count": 0,
      "outputs": [
        {
          "output_type": "execute_result",
          "data": {
            "text/html": [
              "<div>\n",
              "<style scoped>\n",
              "    .dataframe tbody tr th:only-of-type {\n",
              "        vertical-align: middle;\n",
              "    }\n",
              "\n",
              "    .dataframe tbody tr th {\n",
              "        vertical-align: top;\n",
              "    }\n",
              "\n",
              "    .dataframe thead th {\n",
              "        text-align: right;\n",
              "    }\n",
              "</style>\n",
              "<table border=\"1\" class=\"dataframe\">\n",
              "  <thead>\n",
              "    <tr style=\"text-align: right;\">\n",
              "      <th></th>\n",
              "      <th>Personal or Business</th>\n",
              "      <th>Placement - Time</th>\n",
              "      <th>Confirmation - Time</th>\n",
              "      <th>Arrival at Pickup - Time</th>\n",
              "      <th>Pickup - Time</th>\n",
              "      <th>Arrival at Destination - Time</th>\n",
              "    </tr>\n",
              "  </thead>\n",
              "  <tbody>\n",
              "    <tr>\n",
              "      <td>0</td>\n",
              "      <td>Business</td>\n",
              "      <td>9:35:46 AM</td>\n",
              "      <td>9:40:10 AM</td>\n",
              "      <td>10:04:47 AM</td>\n",
              "      <td>10:27:30 AM</td>\n",
              "      <td>10:39:55 AM</td>\n",
              "    </tr>\n",
              "  </tbody>\n",
              "</table>\n",
              "</div>"
            ],
            "text/plain": [
              "  Personal or Business Placement - Time Confirmation - Time  \\\n",
              "0             Business       9:35:46 AM          9:40:10 AM   \n",
              "\n",
              "  Arrival at Pickup - Time Pickup - Time Arrival at Destination - Time  \n",
              "0              10:04:47 AM   10:27:30 AM                   10:39:55 AM  "
            ]
          },
          "metadata": {
            "tags": []
          },
          "execution_count": 25
        }
      ]
    },
    {
      "cell_type": "markdown",
      "metadata": {
        "id": "aYhHXbQDyO2w",
        "colab_type": "text"
      },
      "source": [
        "### Encoding Variables"
      ]
    },
    {
      "cell_type": "code",
      "metadata": {
        "id": "vLf20UzVyO2y",
        "colab_type": "code",
        "colab": {}
      },
      "source": [
        "# import labelencoder\n",
        "from sklearn.preprocessing import LabelEncoder\n",
        "# instantiate labelencoder object\n",
        "le = LabelEncoder()"
      ],
      "execution_count": 0,
      "outputs": []
    },
    {
      "cell_type": "code",
      "metadata": {
        "id": "pphZ0MTLyO22",
        "colab_type": "code",
        "colab": {},
        "outputId": "d27abbab-dc62-4111-ffae-bf8eaf5282de"
      },
      "source": [
        "# apply le on categorical feature columns\n",
        "encoded_categorical_Train = Categorical_Train.apply(lambda x: le.fit_transform(x))\n",
        "encoded_categorical_Test = Categorical_Test.apply(lambda x: le.fit_transform(x))\n",
        "\n",
        "encoded_categorical_Train.head()"
      ],
      "execution_count": 0,
      "outputs": [
        {
          "output_type": "execute_result",
          "data": {
            "text/html": [
              "<div>\n",
              "<style scoped>\n",
              "    .dataframe tbody tr th:only-of-type {\n",
              "        vertical-align: middle;\n",
              "    }\n",
              "\n",
              "    .dataframe tbody tr th {\n",
              "        vertical-align: top;\n",
              "    }\n",
              "\n",
              "    .dataframe thead th {\n",
              "        text-align: right;\n",
              "    }\n",
              "</style>\n",
              "<table border=\"1\" class=\"dataframe\">\n",
              "  <thead>\n",
              "    <tr style=\"text-align: right;\">\n",
              "      <th></th>\n",
              "      <th>Personal or Business</th>\n",
              "      <th>Placement - Time</th>\n",
              "      <th>Confirmation - Time</th>\n",
              "      <th>Arrival at Pickup - Time</th>\n",
              "      <th>Pickup - Time</th>\n",
              "      <th>Arrival at Destination - Time</th>\n",
              "    </tr>\n",
              "  </thead>\n",
              "  <tbody>\n",
              "    <tr>\n",
              "      <td>0</td>\n",
              "      <td>0</td>\n",
              "      <td>14964</td>\n",
              "      <td>15164</td>\n",
              "      <td>130</td>\n",
              "      <td>808</td>\n",
              "      <td>1048</td>\n",
              "    </tr>\n",
              "    <tr>\n",
              "      <td>1</td>\n",
              "      <td>1</td>\n",
              "      <td>2379</td>\n",
              "      <td>2590</td>\n",
              "      <td>3096</td>\n",
              "      <td>3182</td>\n",
              "      <td>3992</td>\n",
              "    </tr>\n",
              "    <tr>\n",
              "      <td>2</td>\n",
              "      <td>0</td>\n",
              "      <td>4992</td>\n",
              "      <td>5105</td>\n",
              "      <td>5260</td>\n",
              "      <td>5342</td>\n",
              "      <td>5355</td>\n",
              "    </tr>\n",
              "    <tr>\n",
              "      <td>3</td>\n",
              "      <td>0</td>\n",
              "      <td>14679</td>\n",
              "      <td>14793</td>\n",
              "      <td>15138</td>\n",
              "      <td>15247</td>\n",
              "      <td>120</td>\n",
              "    </tr>\n",
              "    <tr>\n",
              "      <td>4</td>\n",
              "      <td>1</td>\n",
              "      <td>15544</td>\n",
              "      <td>15639</td>\n",
              "      <td>100</td>\n",
              "      <td>151</td>\n",
              "      <td>626</td>\n",
              "    </tr>\n",
              "  </tbody>\n",
              "</table>\n",
              "</div>"
            ],
            "text/plain": [
              "   Personal or Business  Placement - Time  Confirmation - Time  \\\n",
              "0                     0             14964                15164   \n",
              "1                     1              2379                 2590   \n",
              "2                     0              4992                 5105   \n",
              "3                     0             14679                14793   \n",
              "4                     1             15544                15639   \n",
              "\n",
              "   Arrival at Pickup - Time  Pickup - Time  Arrival at Destination - Time  \n",
              "0                       130            808                           1048  \n",
              "1                      3096           3182                           3992  \n",
              "2                      5260           5342                           5355  \n",
              "3                     15138          15247                            120  \n",
              "4                       100            151                            626  "
            ]
          },
          "metadata": {
            "tags": []
          },
          "execution_count": 27
        }
      ]
    },
    {
      "cell_type": "code",
      "metadata": {
        "id": "8GMqwOH8yO25",
        "colab_type": "code",
        "colab": {},
        "outputId": "e11a776c-2e18-4e96-93be-bdc05558eb25"
      },
      "source": [
        "encoded_categorical_Train.columns"
      ],
      "execution_count": 0,
      "outputs": [
        {
          "output_type": "execute_result",
          "data": {
            "text/plain": [
              "Index(['Personal or Business', 'Placement - Time', 'Confirmation - Time',\n",
              "       'Arrival at Pickup - Time', 'Pickup - Time',\n",
              "       'Arrival at Destination - Time'],\n",
              "      dtype='object')"
            ]
          },
          "metadata": {
            "tags": []
          },
          "execution_count": 28
        }
      ]
    },
    {
      "cell_type": "code",
      "metadata": {
        "id": "euI-wqhWyO28",
        "colab_type": "code",
        "colab": {}
      },
      "source": [
        "#Rejoining numeric and categorical columns\n",
        "train_encoded = pd.concat([encoded_categorical_Train, Numeric_Train], axis=1)\n",
        "test_encoded = pd.concat([encoded_categorical_Test, Numeric_Test], axis=1)"
      ],
      "execution_count": 0,
      "outputs": []
    },
    {
      "cell_type": "code",
      "metadata": {
        "id": "Q3DY5BzgyO2_",
        "colab_type": "code",
        "colab": {},
        "outputId": "b62037c2-c867-40d6-8df9-e6797ebf30b0"
      },
      "source": [
        "train_encoded.columns"
      ],
      "execution_count": 0,
      "outputs": [
        {
          "output_type": "execute_result",
          "data": {
            "text/plain": [
              "Index(['Personal or Business', 'Placement - Time', 'Confirmation - Time',\n",
              "       'Arrival at Pickup - Time', 'Pickup - Time',\n",
              "       'Arrival at Destination - Time', 'Platform Type',\n",
              "       'Placement - Day of Month', 'Placement - Weekday (Mo = 1)',\n",
              "       'Confirmation - Day of Month', 'Confirmation - Weekday (Mo = 1)',\n",
              "       'Arrival at Pickup - Day of Month',\n",
              "       'Arrival at Pickup - Weekday (Mo = 1)', 'Pickup - Day of Month',\n",
              "       'Pickup - Weekday (Mo = 1)', 'Arrival at Destination - Day of Month',\n",
              "       'Arrival at Destination - Weekday (Mo = 1)', 'Distance (KM)',\n",
              "       'Temperature', 'Precipitation in millimeters', 'Pickup Lat',\n",
              "       'Pickup Long', 'Destination Lat', 'Destination Long',\n",
              "       'Time from Pickup to Arrival', 'No_Of_Orders', 'Age', 'Average_Rating',\n",
              "       'No_of_Ratings'],\n",
              "      dtype='object')"
            ]
          },
          "metadata": {
            "tags": []
          },
          "execution_count": 30
        }
      ]
    },
    {
      "cell_type": "code",
      "metadata": {
        "id": "cGqEbfyUyO3C",
        "colab_type": "code",
        "colab": {},
        "outputId": "affcfee4-2df7-491c-fb0a-8786e16e719c"
      },
      "source": [
        "test_encoded.head(2)"
      ],
      "execution_count": 0,
      "outputs": [
        {
          "output_type": "execute_result",
          "data": {
            "text/html": [
              "<div>\n",
              "<style scoped>\n",
              "    .dataframe tbody tr th:only-of-type {\n",
              "        vertical-align: middle;\n",
              "    }\n",
              "\n",
              "    .dataframe tbody tr th {\n",
              "        vertical-align: top;\n",
              "    }\n",
              "\n",
              "    .dataframe thead th {\n",
              "        text-align: right;\n",
              "    }\n",
              "</style>\n",
              "<table border=\"1\" class=\"dataframe\">\n",
              "  <thead>\n",
              "    <tr style=\"text-align: right;\">\n",
              "      <th></th>\n",
              "      <th>Personal or Business</th>\n",
              "      <th>Placement - Time</th>\n",
              "      <th>Confirmation - Time</th>\n",
              "      <th>Arrival at Pickup - Time</th>\n",
              "      <th>Pickup - Time</th>\n",
              "      <th>Platform Type</th>\n",
              "      <th>Placement - Day of Month</th>\n",
              "      <th>Placement - Weekday (Mo = 1)</th>\n",
              "      <th>Confirmation - Day of Month</th>\n",
              "      <th>Confirmation - Weekday (Mo = 1)</th>\n",
              "      <th>...</th>\n",
              "      <th>Temperature</th>\n",
              "      <th>Precipitation in millimeters</th>\n",
              "      <th>Pickup Lat</th>\n",
              "      <th>Pickup Long</th>\n",
              "      <th>Destination Lat</th>\n",
              "      <th>Destination Long</th>\n",
              "      <th>No_Of_Orders</th>\n",
              "      <th>Age</th>\n",
              "      <th>Average_Rating</th>\n",
              "      <th>No_of_Ratings</th>\n",
              "    </tr>\n",
              "  </thead>\n",
              "  <tbody>\n",
              "    <tr>\n",
              "      <td>0</td>\n",
              "      <td>0</td>\n",
              "      <td>4995</td>\n",
              "      <td>5071</td>\n",
              "      <td>5148</td>\n",
              "      <td>5296</td>\n",
              "      <td>3</td>\n",
              "      <td>27</td>\n",
              "      <td>3</td>\n",
              "      <td>27</td>\n",
              "      <td>3</td>\n",
              "      <td>...</td>\n",
              "      <td>23.5</td>\n",
              "      <td>0.0</td>\n",
              "      <td>-1.333275</td>\n",
              "      <td>36.870815</td>\n",
              "      <td>-1.305249</td>\n",
              "      <td>36.822390</td>\n",
              "      <td>439</td>\n",
              "      <td>1511</td>\n",
              "      <td>13.3</td>\n",
              "      <td>171</td>\n",
              "    </tr>\n",
              "    <tr>\n",
              "      <td>1</td>\n",
              "      <td>0</td>\n",
              "      <td>2368</td>\n",
              "      <td>2397</td>\n",
              "      <td>2598</td>\n",
              "      <td>2668</td>\n",
              "      <td>3</td>\n",
              "      <td>17</td>\n",
              "      <td>5</td>\n",
              "      <td>17</td>\n",
              "      <td>5</td>\n",
              "      <td>...</td>\n",
              "      <td>23.5</td>\n",
              "      <td>0.0</td>\n",
              "      <td>-1.272639</td>\n",
              "      <td>36.794723</td>\n",
              "      <td>-1.277007</td>\n",
              "      <td>36.823907</td>\n",
              "      <td>488</td>\n",
              "      <td>273</td>\n",
              "      <td>14.4</td>\n",
              "      <td>45</td>\n",
              "    </tr>\n",
              "  </tbody>\n",
              "</table>\n",
              "<p>2 rows × 25 columns</p>\n",
              "</div>"
            ],
            "text/plain": [
              "   Personal or Business  Placement - Time  Confirmation - Time  \\\n",
              "0                     0              4995                 5071   \n",
              "1                     0              2368                 2397   \n",
              "\n",
              "   Arrival at Pickup - Time  Pickup - Time  Platform Type  \\\n",
              "0                      5148           5296              3   \n",
              "1                      2598           2668              3   \n",
              "\n",
              "   Placement - Day of Month  Placement - Weekday (Mo = 1)  \\\n",
              "0                        27                             3   \n",
              "1                        17                             5   \n",
              "\n",
              "   Confirmation - Day of Month  Confirmation - Weekday (Mo = 1)  ...  \\\n",
              "0                           27                                3  ...   \n",
              "1                           17                                5  ...   \n",
              "\n",
              "   Temperature  Precipitation in millimeters  Pickup Lat  Pickup Long  \\\n",
              "0         23.5                           0.0   -1.333275    36.870815   \n",
              "1         23.5                           0.0   -1.272639    36.794723   \n",
              "\n",
              "   Destination Lat  Destination Long  No_Of_Orders   Age  Average_Rating  \\\n",
              "0        -1.305249         36.822390           439  1511            13.3   \n",
              "1        -1.277007         36.823907           488   273            14.4   \n",
              "\n",
              "   No_of_Ratings  \n",
              "0            171  \n",
              "1             45  \n",
              "\n",
              "[2 rows x 25 columns]"
            ]
          },
          "metadata": {
            "tags": []
          },
          "execution_count": 31
        }
      ]
    },
    {
      "cell_type": "markdown",
      "metadata": {
        "id": "l1wj_iuFyO3F",
        "colab_type": "text"
      },
      "source": [
        "## Splitting the dataset into the Training set and Test set"
      ]
    },
    {
      "cell_type": "code",
      "metadata": {
        "id": "sxVTM9QnyO3F",
        "colab_type": "code",
        "colab": {}
      },
      "source": [
        "from sklearn.model_selection import train_test_split"
      ],
      "execution_count": 0,
      "outputs": []
    },
    {
      "cell_type": "code",
      "metadata": {
        "id": "e4PfmZy1yO3I",
        "colab_type": "code",
        "colab": {}
      },
      "source": [
        ""
      ],
      "execution_count": 0,
      "outputs": []
    },
    {
      "cell_type": "code",
      "metadata": {
        "id": "xDVoNuDlyO3L",
        "colab_type": "code",
        "colab": {}
      },
      "source": [
        "# Selecting the columns to be used as data for accuracy testing\n",
        "X = train_encoded.drop('Time from Pickup to Arrival', axis = 1)\n",
        "#assigning the target column\n",
        "y = train_encoded['Time from Pickup to Arrival']"
      ],
      "execution_count": 0,
      "outputs": []
    },
    {
      "cell_type": "code",
      "metadata": {
        "id": "C3AFbx31yO3P",
        "colab_type": "code",
        "colab": {}
      },
      "source": [
        "from sklearn.model_selection import train_test_split\n",
        "X_train, X_test, y_train, y_test = train_test_split(X, y, test_size = 0.2, random_state = 42)"
      ],
      "execution_count": 0,
      "outputs": []
    },
    {
      "cell_type": "code",
      "metadata": {
        "id": "V6RwAMqNyO3S",
        "colab_type": "code",
        "colab": {},
        "outputId": "c40674e5-2e2d-41b2-85e1-1a90249a4f40"
      },
      "source": [
        "print('Features\\n',X_train.values,'\\n')\n",
        "print('Response\\n',y_train.values)\n"
      ],
      "execution_count": 0,
      "outputs": [
        {
          "output_type": "stream",
          "text": [
            "Features\n",
            " [[    0.   5854.   6394.  ...   339.     15.     14. ]\n",
            " [    0.   8929.   9355.  ...   367.     14.4   131. ]\n",
            " [    0.   2334.   2655.  ...   875.     14.2   243. ]\n",
            " ...\n",
            " [    0.   5766.   5804.  ...  2489.     13.9  2104. ]\n",
            " [    0.   9834.  11407.  ...   446.     12.6    93. ]\n",
            " [    0.   1211.   1221.  ...   339.     14.6   119. ]] \n",
            "\n",
            "Response\n",
            " [ 869  282  912 ... 1004 2452  756]\n"
          ],
          "name": "stdout"
        }
      ]
    },
    {
      "cell_type": "code",
      "metadata": {
        "id": "-RWWvW6myO3Y",
        "colab_type": "code",
        "colab": {}
      },
      "source": [
        "# Model Imports\n",
        "from sklearn.metrics import mean_squared_error, r2_score\n",
        "from sklearn.model_selection import train_test_split\n",
        "\n",
        "from sklearn.linear_model import LinearRegression, Ridge, Lasso"
      ],
      "execution_count": 0,
      "outputs": []
    },
    {
      "cell_type": "markdown",
      "metadata": {
        "id": "PWz1tfVKyO3d",
        "colab_type": "text"
      },
      "source": [
        "## Linear Regression"
      ]
    },
    {
      "cell_type": "code",
      "metadata": {
        "id": "Wxm2ONsJyO3e",
        "colab_type": "code",
        "colab": {},
        "outputId": "070d2652-bbf5-47b2-8d03-55c4dd443199"
      },
      "source": [
        "linear_regress = LinearRegression()\n",
        "linear_regress.fit(X_train, y_train)\n",
        "y_pred_train_lr = linear_regress.predict(X_test)\n",
        "\n",
        "print('RMSE:',np.sqrt(mean_squared_error(y_test,y_pred_train_lr)))\n",
        "print(\"R2  :\", r2_score(y_test, y_pred_train_lr))"
      ],
      "execution_count": 0,
      "outputs": [
        {
          "output_type": "stream",
          "text": [
            "RMSE: 796.0420024241797\n",
            "R2  : 0.34759972962705754\n"
          ],
          "name": "stdout"
        }
      ]
    },
    {
      "cell_type": "markdown",
      "metadata": {
        "id": "lNCiXDlVyO3j",
        "colab_type": "text"
      },
      "source": [
        "## Ridge Regression"
      ]
    },
    {
      "cell_type": "code",
      "metadata": {
        "id": "zvo8ZG1JyO3k",
        "colab_type": "code",
        "colab": {},
        "outputId": "3a1ace85-6481-43d0-df17-aa9ba6a62081"
      },
      "source": [
        "rr = Ridge(alpha=0.01)\n",
        "rr.fit(X_train, y_train) \n",
        "y_pred_train_rr= rr.predict(X_test)\n",
        "\n",
        "print('RMSE:',np.sqrt(mean_squared_error(y_test,y_pred_train_rr)))\n",
        "print(\"R2  :\", r2_score(y_test, y_pred_train_rr))"
      ],
      "execution_count": 0,
      "outputs": [
        {
          "output_type": "stream",
          "text": [
            "RMSE: 796.0423059568662\n",
            "R2  : 0.3475992321034497\n"
          ],
          "name": "stdout"
        }
      ]
    },
    {
      "cell_type": "markdown",
      "metadata": {
        "id": "XtDUeJHPyO3o",
        "colab_type": "text"
      },
      "source": [
        "## Lasso Regression"
      ]
    },
    {
      "cell_type": "code",
      "metadata": {
        "id": "Xs6WzBqGyO3p",
        "colab_type": "code",
        "colab": {},
        "outputId": "2be16cdd-81d9-430c-df5d-ecc213141b01"
      },
      "source": [
        "model_lasso = Lasso(alpha=0.01)\n",
        "model_lasso.fit(X_train, y_train) \n",
        "y_pred_train_lasso= model_lasso.predict(X_test)\n",
        "\n",
        "print('RMSE:',np.sqrt(mean_squared_error(y_test,y_pred_train_lasso)))\n",
        "print(\"R2  :\", r2_score(y_test, y_pred_train_lasso))"
      ],
      "execution_count": 0,
      "outputs": [
        {
          "output_type": "stream",
          "text": [
            "RMSE: 796.1247024265102\n",
            "R2  : 0.3474641681709948\n"
          ],
          "name": "stdout"
        },
        {
          "output_type": "stream",
          "text": [
            "C:\\Users\\Sizwe\\Anaconda3\\lib\\site-packages\\sklearn\\linear_model\\coordinate_descent.py:475: ConvergenceWarning: Objective did not converge. You might want to increase the number of iterations. Duality gap: 3608046256.020631, tolerance: 1654412.127172353\n",
            "  positive)\n"
          ],
          "name": "stderr"
        }
      ]
    },
    {
      "cell_type": "code",
      "metadata": {
        "id": "c4VffRtHyO3u",
        "colab_type": "code",
        "colab": {}
      },
      "source": [
        ""
      ],
      "execution_count": 0,
      "outputs": []
    },
    {
      "cell_type": "code",
      "metadata": {
        "id": "XEcysikNyO3x",
        "colab_type": "code",
        "colab": {}
      },
      "source": [
        ""
      ],
      "execution_count": 0,
      "outputs": []
    },
    {
      "cell_type": "markdown",
      "metadata": {
        "id": "kMfHABd0yO30",
        "colab_type": "text"
      },
      "source": [
        "## Train and Predict"
      ]
    },
    {
      "cell_type": "code",
      "metadata": {
        "id": "BS9EMiakyO30",
        "colab_type": "code",
        "colab": {},
        "outputId": "278e1f6e-6202-43df-c065-75874b3f9145"
      },
      "source": [
        "df_train = train_encoded.copy()\n",
        "df_test = test_encoded.copy()\n",
        "\n",
        "df_train.columns.tolist()"
      ],
      "execution_count": 0,
      "outputs": [
        {
          "output_type": "execute_result",
          "data": {
            "text/plain": [
              "['Personal or Business',\n",
              " 'Placement - Time',\n",
              " 'Confirmation - Time',\n",
              " 'Arrival at Pickup - Time',\n",
              " 'Pickup - Time',\n",
              " 'Arrival at Destination - Time',\n",
              " 'Platform Type',\n",
              " 'Placement - Day of Month',\n",
              " 'Placement - Weekday (Mo = 1)',\n",
              " 'Confirmation - Day of Month',\n",
              " 'Confirmation - Weekday (Mo = 1)',\n",
              " 'Arrival at Pickup - Day of Month',\n",
              " 'Arrival at Pickup - Weekday (Mo = 1)',\n",
              " 'Pickup - Day of Month',\n",
              " 'Pickup - Weekday (Mo = 1)',\n",
              " 'Arrival at Destination - Day of Month',\n",
              " 'Arrival at Destination - Weekday (Mo = 1)',\n",
              " 'Distance (KM)',\n",
              " 'Temperature',\n",
              " 'Precipitation in millimeters',\n",
              " 'Pickup Lat',\n",
              " 'Pickup Long',\n",
              " 'Destination Lat',\n",
              " 'Destination Long',\n",
              " 'Time from Pickup to Arrival',\n",
              " 'No_Of_Orders',\n",
              " 'Age',\n",
              " 'Average_Rating',\n",
              " 'No_of_Ratings']"
            ]
          },
          "metadata": {
            "tags": []
          },
          "execution_count": 40
        }
      ]
    },
    {
      "cell_type": "code",
      "metadata": {
        "id": "9zWeJFI-yO33",
        "colab_type": "code",
        "colab": {},
        "outputId": "f995dcd5-1127-4385-ae41-178721b48ba6"
      },
      "source": [
        "df_test.columns.tolist()"
      ],
      "execution_count": 0,
      "outputs": [
        {
          "output_type": "execute_result",
          "data": {
            "text/plain": [
              "['Personal or Business',\n",
              " 'Placement - Time',\n",
              " 'Confirmation - Time',\n",
              " 'Arrival at Pickup - Time',\n",
              " 'Pickup - Time',\n",
              " 'Platform Type',\n",
              " 'Placement - Day of Month',\n",
              " 'Placement - Weekday (Mo = 1)',\n",
              " 'Confirmation - Day of Month',\n",
              " 'Confirmation - Weekday (Mo = 1)',\n",
              " 'Arrival at Pickup - Day of Month',\n",
              " 'Arrival at Pickup - Weekday (Mo = 1)',\n",
              " 'Pickup - Day of Month',\n",
              " 'Pickup - Weekday (Mo = 1)',\n",
              " 'Distance (KM)',\n",
              " 'Temperature',\n",
              " 'Precipitation in millimeters',\n",
              " 'Pickup Lat',\n",
              " 'Pickup Long',\n",
              " 'Destination Lat',\n",
              " 'Destination Long',\n",
              " 'No_Of_Orders',\n",
              " 'Age',\n",
              " 'Average_Rating',\n",
              " 'No_of_Ratings']"
            ]
          },
          "metadata": {
            "tags": []
          },
          "execution_count": 41
        }
      ]
    },
    {
      "cell_type": "code",
      "metadata": {
        "id": "xISBNvrnyO36",
        "colab_type": "code",
        "colab": {}
      },
      "source": [
        "\n",
        "X = df_train.drop(['Time from Pickup to Arrival',\n",
        "                      'Arrival at Destination - Time',\n",
        "                      'Arrival at Destination - Day of Month',\n",
        "                      'Arrival at Destination - Weekday (Mo = 1)',], axis=1)\n",
        "# \n",
        "y = df_train['Time from Pickup to Arrival']\n",
        "\n",
        "# Defining the train and test sets\n",
        "X_Final_Train = X\n",
        "X_Final_Test = df_test\n",
        "Y_Final_Train = y"
      ],
      "execution_count": 0,
      "outputs": []
    },
    {
      "cell_type": "code",
      "metadata": {
        "id": "3ykaatm_yO38",
        "colab_type": "code",
        "colab": {},
        "outputId": "cf780df0-f8ba-4322-cd2c-e012cda03d6b"
      },
      "source": [
        "print(X_Final_Train.shape)\n",
        "print(X_Final_Test.shape)\n",
        "\n"
      ],
      "execution_count": 0,
      "outputs": [
        {
          "output_type": "stream",
          "text": [
            "(21201, 25)\n",
            "(7068, 25)\n"
          ],
          "name": "stdout"
        }
      ]
    },
    {
      "cell_type": "code",
      "metadata": {
        "id": "hais1X-LyO4A",
        "colab_type": "code",
        "colab": {}
      },
      "source": [
        "linear_regress = LinearRegression()\n",
        "linear_regress.fit(X_Final_Train, Y_Final_Train)\n",
        "y_pred_train_lr = linear_regress.predict(X_Final_Test)\n",
        "\n",
        "submission= pd.DataFrame({'Order No': test_rd['Order No'], \n",
        "                           'Time from Pickup to Arrival': y_pred_train_lr})\n",
        "submission.to_csv('sendy_logistic_sizweexplore.csv',index = False)"
      ],
      "execution_count": 0,
      "outputs": []
    },
    {
      "cell_type": "code",
      "metadata": {
        "id": "cMZMyzVAyO4F",
        "colab_type": "code",
        "colab": {},
        "outputId": "ace14537-f498-4258-f2a4-432b43190895"
      },
      "source": [
        "model_lasso = Lasso(alpha=0.01)\n",
        "model_lasso.fit(X_Final_Train, Y_Final_Train) \n",
        "y_pred_train_lasso= model_lasso.predict(X_Final_Test)\n",
        "\n",
        "\n",
        "submission = pd.DataFrame({'Order No': test_rd['Order No'], \n",
        "                           'Time from Pickup to Arrival': y_pred_train_lasso})\n",
        "submission.to_csv('sendy_logistic_sizweexplore2.csv',index = False)"
      ],
      "execution_count": 0,
      "outputs": [
        {
          "output_type": "stream",
          "text": [
            "C:\\Users\\Sizwe\\Anaconda3\\lib\\site-packages\\sklearn\\linear_model\\coordinate_descent.py:475: ConvergenceWarning: Objective did not converge. You might want to increase the number of iterations. Duality gap: 5349890996.0295315, tolerance: 2066371.6501507382\n",
            "  positive)\n"
          ],
          "name": "stderr"
        }
      ]
    },
    {
      "cell_type": "code",
      "metadata": {
        "id": "Dn3q62NDyO4N",
        "colab_type": "code",
        "colab": {}
      },
      "source": [
        "from sklearn.tree import DecisionTreeRegressor\n",
        "\n",
        "dtree = DecisionTreeRegressor(random_state = 0)\n",
        "dtree.fit(X_Final_Train, Y_Final_Train)\n",
        "y_pred_train_dt = dtree.predict(X_Final_Test)\n",
        "\n",
        "\n",
        "submission = pd.DataFrame({'Order No': test_rd['Order No'], \n",
        "                           'Time from Pickup to Arrival': y_pred_train_dt})\n",
        "submission.to_csv('sendy_logistic_sizweexplore3.csv',index = False)"
      ],
      "execution_count": 0,
      "outputs": []
    },
    {
      "cell_type": "code",
      "metadata": {
        "id": "Vj9pkYLnyO4R",
        "colab_type": "code",
        "colab": {}
      },
      "source": [
        "from sklearn.ensemble import RandomForestRegressor\n",
        "\n",
        "rfreg = RandomForestRegressor(n_estimators = 100, random_state = 0)\n",
        "rfreg.fit(X_Final_Train, Y_Final_Train)\n",
        "y_pred_train_rfreg = rfreg.predict(X_Final_Test)\n",
        "\n",
        "submission = pd.DataFrame({'Order No': test_rd['Order No'], \n",
        "                           'Time from Pickup to Arrival': y_pred_train_rfreg})\n",
        "submission.to_csv('sendy_logistic_sizweexplore4.csv',index = False)"
      ],
      "execution_count": 0,
      "outputs": []
    },
    {
      "cell_type": "code",
      "metadata": {
        "id": "iSBQcvx_yO4W",
        "colab_type": "code",
        "colab": {}
      },
      "source": [
        "# rreg = Ridge(alpha=0.01)\n",
        "# rreg.fit(X_Final_Train, Y_Final_Train) \n",
        "# y_pred_train_rreg= rreg.predict(X_Final_Train)\n",
        "\n",
        "# submission_file = pd.DataFrame({'Order No': test_rd['Order No'], \n",
        "#                            'Time from Pickup to Arrival': y_pred_train_rreg})\n",
        "# submission_file.to_csv('sendy_logistic_sizweexplore5.csv',index = False)"
      ],
      "execution_count": 0,
      "outputs": []
    },
    {
      "cell_type": "markdown",
      "metadata": {
        "id": "k1ixl_eRyO4a",
        "colab_type": "text"
      },
      "source": [
        "Winning model to predic Time from Pickup to Arrival is RandomForestRegressor "
      ]
    },
    {
      "cell_type": "markdown",
      "metadata": {
        "id": "ctMejUElyO4a",
        "colab_type": "text"
      },
      "source": [
        "## Save Model"
      ]
    },
    {
      "cell_type": "code",
      "metadata": {
        "id": "mALCTs33yO4b",
        "colab_type": "code",
        "colab": {}
      },
      "source": [
        "import pickle\n",
        "\n",
        "model_save_path = \"randomforest.pkl\"\n",
        "with open(model_save_path,'wb') as file:\n",
        "    pickle.dump(rfreg,file)"
      ],
      "execution_count": 0,
      "outputs": []
    },
    {
      "cell_type": "code",
      "metadata": {
        "id": "_RQBxoo4yO4h",
        "colab_type": "code",
        "colab": {}
      },
      "source": [
        ""
      ],
      "execution_count": 0,
      "outputs": []
    }
  ]
}